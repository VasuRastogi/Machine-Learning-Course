{
 "cells": [
  {
   "cell_type": "markdown",
   "source": [
    "**Pandas library is used to analyze data.**\n",
    "\n",
    "*It provides numerous ways to retrieve and read in data.*\n",
    "==we can convert data from csv, dictionaries, and Databases into dataframe.=="
   ],
   "metadata": {
    "collapsed": false
   }
  },
  {
   "cell_type": "markdown",
   "source": [
    "All the data representation is done using two datastructures:\n",
    "1. Series\n",
    "2. Dataframe\n",
    "\n",
    "- *Series in pandas is a one-dimensional ndarray with an axis label. It means that in functionality, it is almost similar to a simple array.*\n",
    "\n",
    "- Dataframe is the most important and useful data structure, which is used for almost all kind of data representation and manipulation in pandas. *Unlike numpy arrays (in general) a dataframe can contain heterogeneous data. Typically tabular data is represented using dataframes, which is analogous to an Excel sheet or a SQL table.*\n",
    "\n",
    "\n",
    "\n",
    "- Heterogeneous data structures are data structures that contain diverse types of data, such as integers, doubles, and floats."
   ],
   "metadata": {
    "collapsed": false
   }
  },
  {
   "cell_type": "code",
   "execution_count": 2,
   "metadata": {
    "collapsed": true
   },
   "outputs": [
    {
     "data": {
      "text/plain": "        city  data\n0  Bangalore  5000\n1      Delhi  2000\n2     mumbai  5601",
      "text/html": "<div>\n<style scoped>\n    .dataframe tbody tr th:only-of-type {\n        vertical-align: middle;\n    }\n\n    .dataframe tbody tr th {\n        vertical-align: top;\n    }\n\n    .dataframe thead th {\n        text-align: right;\n    }\n</style>\n<table border=\"1\" class=\"dataframe\">\n  <thead>\n    <tr style=\"text-align: right;\">\n      <th></th>\n      <th>city</th>\n      <th>data</th>\n    </tr>\n  </thead>\n  <tbody>\n    <tr>\n      <th>0</th>\n      <td>Bangalore</td>\n      <td>5000</td>\n    </tr>\n    <tr>\n      <th>1</th>\n      <td>Delhi</td>\n      <td>2000</td>\n    </tr>\n    <tr>\n      <th>2</th>\n      <td>mumbai</td>\n      <td>5601</td>\n    </tr>\n  </tbody>\n</table>\n</div>"
     },
     "execution_count": 2,
     "metadata": {},
     "output_type": "execute_result"
    }
   ],
   "source": [
    "import pandas as pd\n",
    "\n",
    "#  pd.DataFrame() reads data in form of dict, csv or db and converts it into known relational format.\n",
    "data = [{'city': 'Bangalore', 'data': 5000},\n",
    "        {'city': 'Delhi', 'data': 2000},\n",
    "        {'city': 'mumbai', 'data': 5601}]\n",
    "pd.DataFrame(data)\n"
   ]
  },
  {
   "cell_type": "markdown",
   "source": [
    "pd.read_csv() reads the csv file from the specified location and makes a df out of it."
   ],
   "metadata": {
    "collapsed": false
   }
  },
  {
   "cell_type": "code",
   "execution_count": 3,
   "outputs": [
    {
     "data": {
      "text/plain": "          city   city_ascii      lat       lng      country iso2 iso3  \\\n0        Tokyo        Tokyo  35.6897  139.6922        Japan   JP  JPN   \n1      Jakarta      Jakarta  -6.1750  106.8275    Indonesia   ID  IDN   \n2        Delhi        Delhi  28.6100   77.2300        India   IN  IND   \n3    Guangzhou    Guangzhou  23.1300  113.2600        China   CN  CHN   \n4       Mumbai       Mumbai  19.0761   72.8775        India   IN  IND   \n5       Manila       Manila  14.5958  120.9772  Philippines   PH  PHL   \n6     Shanghai     Shanghai  31.1667  121.4667        China   CN  CHN   \n7    São Paulo    Sao Paulo -23.5500  -46.6333       Brazil   BR  BRA   \n8        Seoul        Seoul  37.5600  126.9900  South Korea   KR  KOR   \n9  Mexico City  Mexico City  19.4333  -99.1333       Mexico   MX  MEX   \n\n         admin_name  capital  population          id  \n0             Tōkyō  primary  37732000.0  1392685764  \n1           Jakarta  primary  33756000.0  1360771077  \n2             Delhi    admin  32226000.0  1356872604  \n3         Guangdong    admin  26940000.0  1156237133  \n4       Mahārāshtra    admin  24973000.0  1356226629  \n5            Manila  primary  24922000.0  1608618140  \n6          Shanghai    admin  24073000.0  1156073548  \n7         São Paulo    admin  23086000.0  1076532519  \n8             Seoul  primary  23016000.0  1410836482  \n9  Ciudad de México  primary  21804000.0  1484247881  ",
      "text/html": "<div>\n<style scoped>\n    .dataframe tbody tr th:only-of-type {\n        vertical-align: middle;\n    }\n\n    .dataframe tbody tr th {\n        vertical-align: top;\n    }\n\n    .dataframe thead th {\n        text-align: right;\n    }\n</style>\n<table border=\"1\" class=\"dataframe\">\n  <thead>\n    <tr style=\"text-align: right;\">\n      <th></th>\n      <th>city</th>\n      <th>city_ascii</th>\n      <th>lat</th>\n      <th>lng</th>\n      <th>country</th>\n      <th>iso2</th>\n      <th>iso3</th>\n      <th>admin_name</th>\n      <th>capital</th>\n      <th>population</th>\n      <th>id</th>\n    </tr>\n  </thead>\n  <tbody>\n    <tr>\n      <th>0</th>\n      <td>Tokyo</td>\n      <td>Tokyo</td>\n      <td>35.6897</td>\n      <td>139.6922</td>\n      <td>Japan</td>\n      <td>JP</td>\n      <td>JPN</td>\n      <td>Tōkyō</td>\n      <td>primary</td>\n      <td>37732000.0</td>\n      <td>1392685764</td>\n    </tr>\n    <tr>\n      <th>1</th>\n      <td>Jakarta</td>\n      <td>Jakarta</td>\n      <td>-6.1750</td>\n      <td>106.8275</td>\n      <td>Indonesia</td>\n      <td>ID</td>\n      <td>IDN</td>\n      <td>Jakarta</td>\n      <td>primary</td>\n      <td>33756000.0</td>\n      <td>1360771077</td>\n    </tr>\n    <tr>\n      <th>2</th>\n      <td>Delhi</td>\n      <td>Delhi</td>\n      <td>28.6100</td>\n      <td>77.2300</td>\n      <td>India</td>\n      <td>IN</td>\n      <td>IND</td>\n      <td>Delhi</td>\n      <td>admin</td>\n      <td>32226000.0</td>\n      <td>1356872604</td>\n    </tr>\n    <tr>\n      <th>3</th>\n      <td>Guangzhou</td>\n      <td>Guangzhou</td>\n      <td>23.1300</td>\n      <td>113.2600</td>\n      <td>China</td>\n      <td>CN</td>\n      <td>CHN</td>\n      <td>Guangdong</td>\n      <td>admin</td>\n      <td>26940000.0</td>\n      <td>1156237133</td>\n    </tr>\n    <tr>\n      <th>4</th>\n      <td>Mumbai</td>\n      <td>Mumbai</td>\n      <td>19.0761</td>\n      <td>72.8775</td>\n      <td>India</td>\n      <td>IN</td>\n      <td>IND</td>\n      <td>Mahārāshtra</td>\n      <td>admin</td>\n      <td>24973000.0</td>\n      <td>1356226629</td>\n    </tr>\n    <tr>\n      <th>5</th>\n      <td>Manila</td>\n      <td>Manila</td>\n      <td>14.5958</td>\n      <td>120.9772</td>\n      <td>Philippines</td>\n      <td>PH</td>\n      <td>PHL</td>\n      <td>Manila</td>\n      <td>primary</td>\n      <td>24922000.0</td>\n      <td>1608618140</td>\n    </tr>\n    <tr>\n      <th>6</th>\n      <td>Shanghai</td>\n      <td>Shanghai</td>\n      <td>31.1667</td>\n      <td>121.4667</td>\n      <td>China</td>\n      <td>CN</td>\n      <td>CHN</td>\n      <td>Shanghai</td>\n      <td>admin</td>\n      <td>24073000.0</td>\n      <td>1156073548</td>\n    </tr>\n    <tr>\n      <th>7</th>\n      <td>São Paulo</td>\n      <td>Sao Paulo</td>\n      <td>-23.5500</td>\n      <td>-46.6333</td>\n      <td>Brazil</td>\n      <td>BR</td>\n      <td>BRA</td>\n      <td>São Paulo</td>\n      <td>admin</td>\n      <td>23086000.0</td>\n      <td>1076532519</td>\n    </tr>\n    <tr>\n      <th>8</th>\n      <td>Seoul</td>\n      <td>Seoul</td>\n      <td>37.5600</td>\n      <td>126.9900</td>\n      <td>South Korea</td>\n      <td>KR</td>\n      <td>KOR</td>\n      <td>Seoul</td>\n      <td>primary</td>\n      <td>23016000.0</td>\n      <td>1410836482</td>\n    </tr>\n    <tr>\n      <th>9</th>\n      <td>Mexico City</td>\n      <td>Mexico City</td>\n      <td>19.4333</td>\n      <td>-99.1333</td>\n      <td>Mexico</td>\n      <td>MX</td>\n      <td>MEX</td>\n      <td>Ciudad de México</td>\n      <td>primary</td>\n      <td>21804000.0</td>\n      <td>1484247881</td>\n    </tr>\n  </tbody>\n</table>\n</div>"
     },
     "execution_count": 3,
     "metadata": {},
     "output_type": "execute_result"
    }
   ],
   "source": [
    "city_data = pd.read_csv(\"C:\\\\Users\\\\Vasu\\\\Documents\\\\Notebooks\\\\Jupyter Notebooks\\\\Data\\\\simplemaps_worldcities_basicv1.76\\\\worldcities.csv\")\n",
    "city_data.head(10)"
   ],
   "metadata": {
    "collapsed": false
   }
  },
  {
   "cell_type": "markdown",
   "source": [
    "To connect to databases:\n",
    "\n",
    "server = 'xxxxxxxx' # Address of the database server\n",
    "user = 'xxxxxx' # the username for the database server\n",
    "password = 'xxxxx' # Password for the above user\n",
    "database = 'xxxxx' # Database in which the table is present\n",
    "conn = pymssql.connect(server=server, user=user, password=password, database=database)\n",
    "query = \"select * from some_table\"\n",
    "df = pd.read_sql(query, conn)"
   ],
   "metadata": {
    "collapsed": false
   }
  },
  {
   "cell_type": "code",
   "execution_count": 4,
   "outputs": [
    {
     "data": {
      "text/plain": "               city    city_ascii      lat       lng    country iso2 iso3  \\\n44681  Starorybnoye  Starorybnoye  72.7666  104.8000     Russia   RU  RUS   \n44682      Sagastyr      Sagastyr  73.3779  126.5924     Russia   RU  RUS   \n44683  Zemlya Bunge  Zemlya Bunge  74.8983  142.1050     Russia   RU  RUS   \n44684         Agapa         Agapa  71.4504   89.2500     Russia   RU  RUS   \n44685        Tukchi        Tukchi  57.3670  139.5000     Russia   RU  RUS   \n44686         Numto         Numto  63.6667   71.3333     Russia   RU  RUS   \n44687          Nord          Nord  81.7166  -17.8000  Greenland   GL  GRL   \n44688   Timmiarmiut   Timmiarmiut  62.5333  -42.2167  Greenland   GL  GRL   \n44689    San Rafael    San Rafael -16.7795  -60.6799    Bolivia   BO  BOL   \n44690       Nordvik       Nordvik  74.0165  111.5100     Russia   RU  RUS   \n\n                                     admin_name capital  population  \\\n44681                        Krasnoyarskiy Kray     NaN        10.0   \n44682                          Sakha (Yakutiya)     NaN        10.0   \n44683                          Sakha (Yakutiya)     NaN        10.0   \n44684                        Krasnoyarskiy Kray     NaN        10.0   \n44685                         Khabarovskiy Kray     NaN        10.0   \n44686  Khanty-Mansiyskiy Avtonomnyy Okrug-Yugra     NaN        10.0   \n44687                                       NaN     NaN        10.0   \n44688                                  Kujalleq     NaN        10.0   \n44689                                Santa Cruz     NaN         NaN   \n44690                        Krasnoyarskiy Kray     NaN         0.0   \n\n               id  \n44681  1643724242  \n44682  1643535665  \n44683  1643720805  \n44684  1643009087  \n44685  1643472801  \n44686  1643985006  \n44687  1304217709  \n44688  1304206491  \n44689  1068405265  \n44690  1643587468  ",
      "text/html": "<div>\n<style scoped>\n    .dataframe tbody tr th:only-of-type {\n        vertical-align: middle;\n    }\n\n    .dataframe tbody tr th {\n        vertical-align: top;\n    }\n\n    .dataframe thead th {\n        text-align: right;\n    }\n</style>\n<table border=\"1\" class=\"dataframe\">\n  <thead>\n    <tr style=\"text-align: right;\">\n      <th></th>\n      <th>city</th>\n      <th>city_ascii</th>\n      <th>lat</th>\n      <th>lng</th>\n      <th>country</th>\n      <th>iso2</th>\n      <th>iso3</th>\n      <th>admin_name</th>\n      <th>capital</th>\n      <th>population</th>\n      <th>id</th>\n    </tr>\n  </thead>\n  <tbody>\n    <tr>\n      <th>44681</th>\n      <td>Starorybnoye</td>\n      <td>Starorybnoye</td>\n      <td>72.7666</td>\n      <td>104.8000</td>\n      <td>Russia</td>\n      <td>RU</td>\n      <td>RUS</td>\n      <td>Krasnoyarskiy Kray</td>\n      <td>NaN</td>\n      <td>10.0</td>\n      <td>1643724242</td>\n    </tr>\n    <tr>\n      <th>44682</th>\n      <td>Sagastyr</td>\n      <td>Sagastyr</td>\n      <td>73.3779</td>\n      <td>126.5924</td>\n      <td>Russia</td>\n      <td>RU</td>\n      <td>RUS</td>\n      <td>Sakha (Yakutiya)</td>\n      <td>NaN</td>\n      <td>10.0</td>\n      <td>1643535665</td>\n    </tr>\n    <tr>\n      <th>44683</th>\n      <td>Zemlya Bunge</td>\n      <td>Zemlya Bunge</td>\n      <td>74.8983</td>\n      <td>142.1050</td>\n      <td>Russia</td>\n      <td>RU</td>\n      <td>RUS</td>\n      <td>Sakha (Yakutiya)</td>\n      <td>NaN</td>\n      <td>10.0</td>\n      <td>1643720805</td>\n    </tr>\n    <tr>\n      <th>44684</th>\n      <td>Agapa</td>\n      <td>Agapa</td>\n      <td>71.4504</td>\n      <td>89.2500</td>\n      <td>Russia</td>\n      <td>RU</td>\n      <td>RUS</td>\n      <td>Krasnoyarskiy Kray</td>\n      <td>NaN</td>\n      <td>10.0</td>\n      <td>1643009087</td>\n    </tr>\n    <tr>\n      <th>44685</th>\n      <td>Tukchi</td>\n      <td>Tukchi</td>\n      <td>57.3670</td>\n      <td>139.5000</td>\n      <td>Russia</td>\n      <td>RU</td>\n      <td>RUS</td>\n      <td>Khabarovskiy Kray</td>\n      <td>NaN</td>\n      <td>10.0</td>\n      <td>1643472801</td>\n    </tr>\n    <tr>\n      <th>44686</th>\n      <td>Numto</td>\n      <td>Numto</td>\n      <td>63.6667</td>\n      <td>71.3333</td>\n      <td>Russia</td>\n      <td>RU</td>\n      <td>RUS</td>\n      <td>Khanty-Mansiyskiy Avtonomnyy Okrug-Yugra</td>\n      <td>NaN</td>\n      <td>10.0</td>\n      <td>1643985006</td>\n    </tr>\n    <tr>\n      <th>44687</th>\n      <td>Nord</td>\n      <td>Nord</td>\n      <td>81.7166</td>\n      <td>-17.8000</td>\n      <td>Greenland</td>\n      <td>GL</td>\n      <td>GRL</td>\n      <td>NaN</td>\n      <td>NaN</td>\n      <td>10.0</td>\n      <td>1304217709</td>\n    </tr>\n    <tr>\n      <th>44688</th>\n      <td>Timmiarmiut</td>\n      <td>Timmiarmiut</td>\n      <td>62.5333</td>\n      <td>-42.2167</td>\n      <td>Greenland</td>\n      <td>GL</td>\n      <td>GRL</td>\n      <td>Kujalleq</td>\n      <td>NaN</td>\n      <td>10.0</td>\n      <td>1304206491</td>\n    </tr>\n    <tr>\n      <th>44689</th>\n      <td>San Rafael</td>\n      <td>San Rafael</td>\n      <td>-16.7795</td>\n      <td>-60.6799</td>\n      <td>Bolivia</td>\n      <td>BO</td>\n      <td>BOL</td>\n      <td>Santa Cruz</td>\n      <td>NaN</td>\n      <td>NaN</td>\n      <td>1068405265</td>\n    </tr>\n    <tr>\n      <th>44690</th>\n      <td>Nordvik</td>\n      <td>Nordvik</td>\n      <td>74.0165</td>\n      <td>111.5100</td>\n      <td>Russia</td>\n      <td>RU</td>\n      <td>RUS</td>\n      <td>Krasnoyarskiy Kray</td>\n      <td>NaN</td>\n      <td>0.0</td>\n      <td>1643587468</td>\n    </tr>\n  </tbody>\n</table>\n</div>"
     },
     "execution_count": 4,
     "metadata": {},
     "output_type": "execute_result"
    }
   ],
   "source": [
    "city_data.tail(10)"
   ],
   "metadata": {
    "collapsed": false
   }
  },
  {
   "cell_type": "markdown",
   "source": [
    "Data Access"
   ],
   "metadata": {
    "collapsed": false
   }
  },
  {
   "cell_type": "code",
   "execution_count": 5,
   "outputs": [
    {
     "data": {
      "text/plain": "1    -6.1750\n3    23.1300\n5    14.5958\n7   -23.5500\n9    19.4333\nName: lat, dtype: float64"
     },
     "execution_count": 5,
     "metadata": {},
     "output_type": "execute_result"
    }
   ],
   "source": [
    "series_es = city_data.lat     # lat is the column name in the city_data dataframe.\n",
    "series_es[1:10:2]             # slicing from 1 to 10 skipping every second entry."
   ],
   "metadata": {
    "collapsed": false
   }
  },
  {
   "cell_type": "markdown",
   "source": [
    "Slicing in Pandas series can help to access desired values."
   ],
   "metadata": {
    "collapsed": false
   }
  },
  {
   "cell_type": "code",
   "execution_count": 6,
   "outputs": [
    {
     "data": {
      "text/plain": "0        35.6897\n1        -6.1750\n2        28.6100\n3        23.1300\n4        19.0761\n          ...   \n37371    53.4302\n37372    26.2336\n37373    53.2000\n37374    50.9667\n37375    43.9115\nName: lat, Length: 37376, dtype: float64"
     },
     "execution_count": 6,
     "metadata": {},
     "output_type": "execute_result"
    }
   ],
   "source": [
    "series_es[:7]       # first 7 data items.\n",
    "series_es[:-7315]   # excluding last 7315 items.items"
   ],
   "metadata": {
    "collapsed": false
   }
  },
  {
   "cell_type": "markdown",
   "source": [
    "Slicing in DataFrames.\n",
    "\n",
    "- dataframe[:n] refers to [0, n) rows\n",
    "- dataframe[n:] refers to [n, end) rows / all the rows from n to last.\n",
    "\n",
    "* TO get to specific row and column we use .iloc[] *"
   ],
   "metadata": {
    "collapsed": false
   }
  },
  {
   "cell_type": "code",
   "execution_count": 7,
   "outputs": [
    {
     "data": {
      "text/plain": "        city city_ascii      lat       lng      country iso2 iso3  \\\n0      Tokyo      Tokyo  35.6897  139.6922        Japan   JP  JPN   \n1    Jakarta    Jakarta  -6.1750  106.8275    Indonesia   ID  IDN   \n2      Delhi      Delhi  28.6100   77.2300        India   IN  IND   \n3  Guangzhou  Guangzhou  23.1300  113.2600        China   CN  CHN   \n4     Mumbai     Mumbai  19.0761   72.8775        India   IN  IND   \n5     Manila     Manila  14.5958  120.9772  Philippines   PH  PHL   \n6   Shanghai   Shanghai  31.1667  121.4667        China   CN  CHN   \n\n    admin_name  capital  population          id  \n0        Tōkyō  primary  37732000.0  1392685764  \n1      Jakarta  primary  33756000.0  1360771077  \n2        Delhi    admin  32226000.0  1356872604  \n3    Guangdong    admin  26940000.0  1156237133  \n4  Mahārāshtra    admin  24973000.0  1356226629  \n5       Manila  primary  24922000.0  1608618140  \n6     Shanghai    admin  24073000.0  1156073548  ",
      "text/html": "<div>\n<style scoped>\n    .dataframe tbody tr th:only-of-type {\n        vertical-align: middle;\n    }\n\n    .dataframe tbody tr th {\n        vertical-align: top;\n    }\n\n    .dataframe thead th {\n        text-align: right;\n    }\n</style>\n<table border=\"1\" class=\"dataframe\">\n  <thead>\n    <tr style=\"text-align: right;\">\n      <th></th>\n      <th>city</th>\n      <th>city_ascii</th>\n      <th>lat</th>\n      <th>lng</th>\n      <th>country</th>\n      <th>iso2</th>\n      <th>iso3</th>\n      <th>admin_name</th>\n      <th>capital</th>\n      <th>population</th>\n      <th>id</th>\n    </tr>\n  </thead>\n  <tbody>\n    <tr>\n      <th>0</th>\n      <td>Tokyo</td>\n      <td>Tokyo</td>\n      <td>35.6897</td>\n      <td>139.6922</td>\n      <td>Japan</td>\n      <td>JP</td>\n      <td>JPN</td>\n      <td>Tōkyō</td>\n      <td>primary</td>\n      <td>37732000.0</td>\n      <td>1392685764</td>\n    </tr>\n    <tr>\n      <th>1</th>\n      <td>Jakarta</td>\n      <td>Jakarta</td>\n      <td>-6.1750</td>\n      <td>106.8275</td>\n      <td>Indonesia</td>\n      <td>ID</td>\n      <td>IDN</td>\n      <td>Jakarta</td>\n      <td>primary</td>\n      <td>33756000.0</td>\n      <td>1360771077</td>\n    </tr>\n    <tr>\n      <th>2</th>\n      <td>Delhi</td>\n      <td>Delhi</td>\n      <td>28.6100</td>\n      <td>77.2300</td>\n      <td>India</td>\n      <td>IN</td>\n      <td>IND</td>\n      <td>Delhi</td>\n      <td>admin</td>\n      <td>32226000.0</td>\n      <td>1356872604</td>\n    </tr>\n    <tr>\n      <th>3</th>\n      <td>Guangzhou</td>\n      <td>Guangzhou</td>\n      <td>23.1300</td>\n      <td>113.2600</td>\n      <td>China</td>\n      <td>CN</td>\n      <td>CHN</td>\n      <td>Guangdong</td>\n      <td>admin</td>\n      <td>26940000.0</td>\n      <td>1156237133</td>\n    </tr>\n    <tr>\n      <th>4</th>\n      <td>Mumbai</td>\n      <td>Mumbai</td>\n      <td>19.0761</td>\n      <td>72.8775</td>\n      <td>India</td>\n      <td>IN</td>\n      <td>IND</td>\n      <td>Mahārāshtra</td>\n      <td>admin</td>\n      <td>24973000.0</td>\n      <td>1356226629</td>\n    </tr>\n    <tr>\n      <th>5</th>\n      <td>Manila</td>\n      <td>Manila</td>\n      <td>14.5958</td>\n      <td>120.9772</td>\n      <td>Philippines</td>\n      <td>PH</td>\n      <td>PHL</td>\n      <td>Manila</td>\n      <td>primary</td>\n      <td>24922000.0</td>\n      <td>1608618140</td>\n    </tr>\n    <tr>\n      <th>6</th>\n      <td>Shanghai</td>\n      <td>Shanghai</td>\n      <td>31.1667</td>\n      <td>121.4667</td>\n      <td>China</td>\n      <td>CN</td>\n      <td>CHN</td>\n      <td>Shanghai</td>\n      <td>admin</td>\n      <td>24073000.0</td>\n      <td>1156073548</td>\n    </tr>\n  </tbody>\n</table>\n</div>"
     },
     "execution_count": 7,
     "metadata": {},
     "output_type": "execute_result"
    }
   ],
   "source": [
    "city_data[:7]  # first 7 rows"
   ],
   "metadata": {
    "collapsed": false
   }
  },
  {
   "cell_type": "code",
   "execution_count": 8,
   "outputs": [
    {
     "data": {
      "text/plain": "        city city_ascii      lat\n0      Tokyo      Tokyo  35.6897\n1    Jakarta    Jakarta  -6.1750\n2      Delhi      Delhi  28.6100\n3  Guangzhou  Guangzhou  23.1300\n4     Mumbai     Mumbai  19.0761",
      "text/html": "<div>\n<style scoped>\n    .dataframe tbody tr th:only-of-type {\n        vertical-align: middle;\n    }\n\n    .dataframe tbody tr th {\n        vertical-align: top;\n    }\n\n    .dataframe thead th {\n        text-align: right;\n    }\n</style>\n<table border=\"1\" class=\"dataframe\">\n  <thead>\n    <tr style=\"text-align: right;\">\n      <th></th>\n      <th>city</th>\n      <th>city_ascii</th>\n      <th>lat</th>\n    </tr>\n  </thead>\n  <tbody>\n    <tr>\n      <th>0</th>\n      <td>Tokyo</td>\n      <td>Tokyo</td>\n      <td>35.6897</td>\n    </tr>\n    <tr>\n      <th>1</th>\n      <td>Jakarta</td>\n      <td>Jakarta</td>\n      <td>-6.1750</td>\n    </tr>\n    <tr>\n      <th>2</th>\n      <td>Delhi</td>\n      <td>Delhi</td>\n      <td>28.6100</td>\n    </tr>\n    <tr>\n      <th>3</th>\n      <td>Guangzhou</td>\n      <td>Guangzhou</td>\n      <td>23.1300</td>\n    </tr>\n    <tr>\n      <th>4</th>\n      <td>Mumbai</td>\n      <td>Mumbai</td>\n      <td>19.0761</td>\n    </tr>\n  </tbody>\n</table>\n</div>"
     },
     "execution_count": 8,
     "metadata": {},
     "output_type": "execute_result"
    }
   ],
   "source": [
    "city_data.iloc[:5, :3]"
   ],
   "metadata": {
    "collapsed": false
   }
  },
  {
   "cell_type": "markdown",
   "source": [
    "from 5-10 rows, give city, country and their iso3.\n",
    "here, I have created an array of attributes and passed as an argument where .loc's column are passed."
   ],
   "metadata": {
    "collapsed": false
   }
  },
  {
   "cell_type": "code",
   "execution_count": 9,
   "outputs": [
    {
     "data": {
      "text/plain": "           city      country iso3\n5        Manila  Philippines  PHL\n6      Shanghai        China  CHN\n7     São Paulo       Brazil  BRA\n8         Seoul  South Korea  KOR\n9   Mexico City       Mexico  MEX\n10        Cairo        Egypt  EGY",
      "text/html": "<div>\n<style scoped>\n    .dataframe tbody tr th:only-of-type {\n        vertical-align: middle;\n    }\n\n    .dataframe tbody tr th {\n        vertical-align: top;\n    }\n\n    .dataframe thead th {\n        text-align: right;\n    }\n</style>\n<table border=\"1\" class=\"dataframe\">\n  <thead>\n    <tr style=\"text-align: right;\">\n      <th></th>\n      <th>city</th>\n      <th>country</th>\n      <th>iso3</th>\n    </tr>\n  </thead>\n  <tbody>\n    <tr>\n      <th>5</th>\n      <td>Manila</td>\n      <td>Philippines</td>\n      <td>PHL</td>\n    </tr>\n    <tr>\n      <th>6</th>\n      <td>Shanghai</td>\n      <td>China</td>\n      <td>CHN</td>\n    </tr>\n    <tr>\n      <th>7</th>\n      <td>São Paulo</td>\n      <td>Brazil</td>\n      <td>BRA</td>\n    </tr>\n    <tr>\n      <th>8</th>\n      <td>Seoul</td>\n      <td>South Korea</td>\n      <td>KOR</td>\n    </tr>\n    <tr>\n      <th>9</th>\n      <td>Mexico City</td>\n      <td>Mexico</td>\n      <td>MEX</td>\n    </tr>\n    <tr>\n      <th>10</th>\n      <td>Cairo</td>\n      <td>Egypt</td>\n      <td>EGY</td>\n    </tr>\n  </tbody>\n</table>\n</div>"
     },
     "execution_count": 9,
     "metadata": {},
     "output_type": "execute_result"
    }
   ],
   "source": [
    "city_data.loc[5:10, ['city', 'country', 'iso3']]"
   ],
   "metadata": {
    "collapsed": false
   }
  },
  {
   "cell_type": "code",
   "execution_count": 10,
   "outputs": [
    {
     "data": {
      "text/plain": "           city   city_ascii      lat       lng      country\n5        Manila       Manila  14.5958  120.9772  Philippines\n6      Shanghai     Shanghai  31.1667  121.4667        China\n7     São Paulo    Sao Paulo -23.5500  -46.6333       Brazil\n8         Seoul        Seoul  37.5600  126.9900  South Korea\n9   Mexico City  Mexico City  19.4333  -99.1333       Mexico\n10        Cairo        Cairo  30.0444   31.2358        Egypt",
      "text/html": "<div>\n<style scoped>\n    .dataframe tbody tr th:only-of-type {\n        vertical-align: middle;\n    }\n\n    .dataframe tbody tr th {\n        vertical-align: top;\n    }\n\n    .dataframe thead th {\n        text-align: right;\n    }\n</style>\n<table border=\"1\" class=\"dataframe\">\n  <thead>\n    <tr style=\"text-align: right;\">\n      <th></th>\n      <th>city</th>\n      <th>city_ascii</th>\n      <th>lat</th>\n      <th>lng</th>\n      <th>country</th>\n    </tr>\n  </thead>\n  <tbody>\n    <tr>\n      <th>5</th>\n      <td>Manila</td>\n      <td>Manila</td>\n      <td>14.5958</td>\n      <td>120.9772</td>\n      <td>Philippines</td>\n    </tr>\n    <tr>\n      <th>6</th>\n      <td>Shanghai</td>\n      <td>Shanghai</td>\n      <td>31.1667</td>\n      <td>121.4667</td>\n      <td>China</td>\n    </tr>\n    <tr>\n      <th>7</th>\n      <td>São Paulo</td>\n      <td>Sao Paulo</td>\n      <td>-23.5500</td>\n      <td>-46.6333</td>\n      <td>Brazil</td>\n    </tr>\n    <tr>\n      <th>8</th>\n      <td>Seoul</td>\n      <td>Seoul</td>\n      <td>37.5600</td>\n      <td>126.9900</td>\n      <td>South Korea</td>\n    </tr>\n    <tr>\n      <th>9</th>\n      <td>Mexico City</td>\n      <td>Mexico City</td>\n      <td>19.4333</td>\n      <td>-99.1333</td>\n      <td>Mexico</td>\n    </tr>\n    <tr>\n      <th>10</th>\n      <td>Cairo</td>\n      <td>Cairo</td>\n      <td>30.0444</td>\n      <td>31.2358</td>\n      <td>Egypt</td>\n    </tr>\n  </tbody>\n</table>\n</div>"
     },
     "execution_count": 10,
     "metadata": {},
     "output_type": "execute_result"
    }
   ],
   "source": [
    "city_data.loc[5:10, 'city':'country']   # 5 se 10 tak row traversal and city se country tak column traversal."
   ],
   "metadata": {
    "collapsed": false
   }
  },
  {
   "cell_type": "markdown",
   "source": [
    "Boolean based indexing.\n",
    "it allows us to work with a specific set of rows and columns."
   ],
   "metadata": {
    "collapsed": false
   }
  },
  {
   "cell_type": "code",
   "execution_count": 11,
   "outputs": [
    {
     "data": {
      "text/plain": "                city        city_ascii      lat       lng        country iso2  \\\n0              Tokyo             Tokyo  35.6897  139.6922          Japan   JP   \n1            Jakarta           Jakarta  -6.1750  106.8275      Indonesia   ID   \n2              Delhi             Delhi  28.6100   77.2300          India   IN   \n3          Guangzhou         Guangzhou  23.1300  113.2600          China   CN   \n4             Mumbai            Mumbai  19.0761   72.8775          India   IN   \n5             Manila            Manila  14.5958  120.9772    Philippines   PH   \n6           Shanghai          Shanghai  31.1667  121.4667          China   CN   \n7          São Paulo         Sao Paulo -23.5500  -46.6333         Brazil   BR   \n8              Seoul             Seoul  37.5600  126.9900    South Korea   KR   \n9        Mexico City       Mexico City  19.4333  -99.1333         Mexico   MX   \n10             Cairo             Cairo  30.0444   31.2358          Egypt   EG   \n11          New York          New York  40.6943  -73.9249  United States   US   \n12             Dhaka             Dhaka  23.7639   90.3889     Bangladesh   BD   \n13           Beijing           Beijing  39.9040  116.4075          China   CN   \n14           Kolkāta           Kolkata  22.5675   88.3700          India   IN   \n15           Bangkok           Bangkok  13.7525  100.4942       Thailand   TH   \n16          Shenzhen          Shenzhen  22.5350  114.0540          China   CN   \n17            Moscow            Moscow  55.7558   37.6178         Russia   RU   \n18      Buenos Aires      Buenos Aires -34.5997  -58.3819      Argentina   AR   \n19             Lagos             Lagos   6.4550    3.3841        Nigeria   NG   \n20          Istanbul          Istanbul  41.0136   28.9550         Turkey   TR   \n21           Karachi           Karachi  24.8600   67.0100       Pakistan   PK   \n22         Bangalore         Bangalore  12.9789   77.5917          India   IN   \n23  Ho Chi Minh City  Ho Chi Minh City  10.7756  106.7019        Vietnam   VN   \n24             Ōsaka             Osaka  34.6939  135.5022          Japan   JP   \n25               NaN               NaN      NaN       NaN            NaN  NaN   \n26               NaN               NaN      NaN       NaN            NaN  NaN   \n27               NaN               NaN      NaN       NaN            NaN  NaN   \n28               NaN               NaN      NaN       NaN            NaN  NaN   \n29               NaN               NaN      NaN       NaN            NaN  NaN   \n30               NaN               NaN      NaN       NaN            NaN  NaN   \n31               NaN               NaN      NaN       NaN            NaN  NaN   \n32               NaN               NaN      NaN       NaN            NaN  NaN   \n33               NaN               NaN      NaN       NaN            NaN  NaN   \n34               NaN               NaN      NaN       NaN            NaN  NaN   \n35               NaN               NaN      NaN       NaN            NaN  NaN   \n36               NaN               NaN      NaN       NaN            NaN  NaN   \n37               NaN               NaN      NaN       NaN            NaN  NaN   \n38               NaN               NaN      NaN       NaN            NaN  NaN   \n39               NaN               NaN      NaN       NaN            NaN  NaN   \n40               NaN               NaN      NaN       NaN            NaN  NaN   \n41               NaN               NaN      NaN       NaN            NaN  NaN   \n42               NaN               NaN      NaN       NaN            NaN  NaN   \n43               NaN               NaN      NaN       NaN            NaN  NaN   \n\n   iso3                        admin_name  capital  population            id  \n0   JPN                             Tōkyō  primary  37732000.0  1.392686e+09  \n1   IDN                           Jakarta  primary  33756000.0  1.360771e+09  \n2   IND                             Delhi    admin  32226000.0  1.356873e+09  \n3   CHN                         Guangdong    admin  26940000.0  1.156237e+09  \n4   IND                       Mahārāshtra    admin  24973000.0  1.356227e+09  \n5   PHL                            Manila  primary  24922000.0  1.608618e+09  \n6   CHN                          Shanghai    admin  24073000.0  1.156074e+09  \n7   BRA                         São Paulo    admin  23086000.0  1.076533e+09  \n8   KOR                             Seoul  primary  23016000.0  1.410836e+09  \n9   MEX                  Ciudad de México  primary  21804000.0  1.484248e+09  \n10  EGY                        Al Qāhirah  primary  20296000.0  1.818254e+09  \n11  USA                          New York      NaN  18972871.0  1.840034e+09  \n12  BGD                             Dhaka  primary  18627000.0  1.050529e+09  \n13  CHN                           Beijing  primary  18522000.0  1.156229e+09  \n14  IND                       West Bengal    admin  18502000.0  1.356061e+09  \n15  THA            Krung Thep Maha Nakhon  primary  18007000.0  1.764069e+09  \n16  CHN                         Guangdong    minor  17619000.0  1.156159e+09  \n17  RUS                            Moskva  primary  17332000.0  1.643318e+09  \n18  ARG  Buenos Aires, Ciudad Autónoma de  primary  16710000.0  1.032717e+09  \n19  NGA                             Lagos    minor  16637000.0  1.566594e+09  \n20  TUR                          İstanbul    admin  16079000.0  1.792756e+09  \n21  PAK                             Sindh    admin  15738000.0  1.586129e+09  \n22  IND                         Karnātaka    admin  15386000.0  1.356410e+09  \n23  VNM                       Hồ Chí Minh    admin  15136000.0  1.704774e+09  \n24  JPN                             Ōsaka    admin  15126000.0  1.392420e+09  \n25  NaN                               NaN      NaN         NaN           NaN  \n26  NaN                               NaN      NaN         NaN           NaN  \n27  NaN                               NaN      NaN         NaN           NaN  \n28  NaN                               NaN      NaN         NaN           NaN  \n29  NaN                               NaN      NaN         NaN           NaN  \n30  NaN                               NaN      NaN         NaN           NaN  \n31  NaN                               NaN      NaN         NaN           NaN  \n32  NaN                               NaN      NaN         NaN           NaN  \n33  NaN                               NaN      NaN         NaN           NaN  \n34  NaN                               NaN      NaN         NaN           NaN  \n35  NaN                               NaN      NaN         NaN           NaN  \n36  NaN                               NaN      NaN         NaN           NaN  \n37  NaN                               NaN      NaN         NaN           NaN  \n38  NaN                               NaN      NaN         NaN           NaN  \n39  NaN                               NaN      NaN         NaN           NaN  \n40  NaN                               NaN      NaN         NaN           NaN  \n41  NaN                               NaN      NaN         NaN           NaN  \n42  NaN                               NaN      NaN         NaN           NaN  \n43  NaN                               NaN      NaN         NaN           NaN  ",
      "text/html": "<div>\n<style scoped>\n    .dataframe tbody tr th:only-of-type {\n        vertical-align: middle;\n    }\n\n    .dataframe tbody tr th {\n        vertical-align: top;\n    }\n\n    .dataframe thead th {\n        text-align: right;\n    }\n</style>\n<table border=\"1\" class=\"dataframe\">\n  <thead>\n    <tr style=\"text-align: right;\">\n      <th></th>\n      <th>city</th>\n      <th>city_ascii</th>\n      <th>lat</th>\n      <th>lng</th>\n      <th>country</th>\n      <th>iso2</th>\n      <th>iso3</th>\n      <th>admin_name</th>\n      <th>capital</th>\n      <th>population</th>\n      <th>id</th>\n    </tr>\n  </thead>\n  <tbody>\n    <tr>\n      <th>0</th>\n      <td>Tokyo</td>\n      <td>Tokyo</td>\n      <td>35.6897</td>\n      <td>139.6922</td>\n      <td>Japan</td>\n      <td>JP</td>\n      <td>JPN</td>\n      <td>Tōkyō</td>\n      <td>primary</td>\n      <td>37732000.0</td>\n      <td>1.392686e+09</td>\n    </tr>\n    <tr>\n      <th>1</th>\n      <td>Jakarta</td>\n      <td>Jakarta</td>\n      <td>-6.1750</td>\n      <td>106.8275</td>\n      <td>Indonesia</td>\n      <td>ID</td>\n      <td>IDN</td>\n      <td>Jakarta</td>\n      <td>primary</td>\n      <td>33756000.0</td>\n      <td>1.360771e+09</td>\n    </tr>\n    <tr>\n      <th>2</th>\n      <td>Delhi</td>\n      <td>Delhi</td>\n      <td>28.6100</td>\n      <td>77.2300</td>\n      <td>India</td>\n      <td>IN</td>\n      <td>IND</td>\n      <td>Delhi</td>\n      <td>admin</td>\n      <td>32226000.0</td>\n      <td>1.356873e+09</td>\n    </tr>\n    <tr>\n      <th>3</th>\n      <td>Guangzhou</td>\n      <td>Guangzhou</td>\n      <td>23.1300</td>\n      <td>113.2600</td>\n      <td>China</td>\n      <td>CN</td>\n      <td>CHN</td>\n      <td>Guangdong</td>\n      <td>admin</td>\n      <td>26940000.0</td>\n      <td>1.156237e+09</td>\n    </tr>\n    <tr>\n      <th>4</th>\n      <td>Mumbai</td>\n      <td>Mumbai</td>\n      <td>19.0761</td>\n      <td>72.8775</td>\n      <td>India</td>\n      <td>IN</td>\n      <td>IND</td>\n      <td>Mahārāshtra</td>\n      <td>admin</td>\n      <td>24973000.0</td>\n      <td>1.356227e+09</td>\n    </tr>\n    <tr>\n      <th>5</th>\n      <td>Manila</td>\n      <td>Manila</td>\n      <td>14.5958</td>\n      <td>120.9772</td>\n      <td>Philippines</td>\n      <td>PH</td>\n      <td>PHL</td>\n      <td>Manila</td>\n      <td>primary</td>\n      <td>24922000.0</td>\n      <td>1.608618e+09</td>\n    </tr>\n    <tr>\n      <th>6</th>\n      <td>Shanghai</td>\n      <td>Shanghai</td>\n      <td>31.1667</td>\n      <td>121.4667</td>\n      <td>China</td>\n      <td>CN</td>\n      <td>CHN</td>\n      <td>Shanghai</td>\n      <td>admin</td>\n      <td>24073000.0</td>\n      <td>1.156074e+09</td>\n    </tr>\n    <tr>\n      <th>7</th>\n      <td>São Paulo</td>\n      <td>Sao Paulo</td>\n      <td>-23.5500</td>\n      <td>-46.6333</td>\n      <td>Brazil</td>\n      <td>BR</td>\n      <td>BRA</td>\n      <td>São Paulo</td>\n      <td>admin</td>\n      <td>23086000.0</td>\n      <td>1.076533e+09</td>\n    </tr>\n    <tr>\n      <th>8</th>\n      <td>Seoul</td>\n      <td>Seoul</td>\n      <td>37.5600</td>\n      <td>126.9900</td>\n      <td>South Korea</td>\n      <td>KR</td>\n      <td>KOR</td>\n      <td>Seoul</td>\n      <td>primary</td>\n      <td>23016000.0</td>\n      <td>1.410836e+09</td>\n    </tr>\n    <tr>\n      <th>9</th>\n      <td>Mexico City</td>\n      <td>Mexico City</td>\n      <td>19.4333</td>\n      <td>-99.1333</td>\n      <td>Mexico</td>\n      <td>MX</td>\n      <td>MEX</td>\n      <td>Ciudad de México</td>\n      <td>primary</td>\n      <td>21804000.0</td>\n      <td>1.484248e+09</td>\n    </tr>\n    <tr>\n      <th>10</th>\n      <td>Cairo</td>\n      <td>Cairo</td>\n      <td>30.0444</td>\n      <td>31.2358</td>\n      <td>Egypt</td>\n      <td>EG</td>\n      <td>EGY</td>\n      <td>Al Qāhirah</td>\n      <td>primary</td>\n      <td>20296000.0</td>\n      <td>1.818254e+09</td>\n    </tr>\n    <tr>\n      <th>11</th>\n      <td>New York</td>\n      <td>New York</td>\n      <td>40.6943</td>\n      <td>-73.9249</td>\n      <td>United States</td>\n      <td>US</td>\n      <td>USA</td>\n      <td>New York</td>\n      <td>NaN</td>\n      <td>18972871.0</td>\n      <td>1.840034e+09</td>\n    </tr>\n    <tr>\n      <th>12</th>\n      <td>Dhaka</td>\n      <td>Dhaka</td>\n      <td>23.7639</td>\n      <td>90.3889</td>\n      <td>Bangladesh</td>\n      <td>BD</td>\n      <td>BGD</td>\n      <td>Dhaka</td>\n      <td>primary</td>\n      <td>18627000.0</td>\n      <td>1.050529e+09</td>\n    </tr>\n    <tr>\n      <th>13</th>\n      <td>Beijing</td>\n      <td>Beijing</td>\n      <td>39.9040</td>\n      <td>116.4075</td>\n      <td>China</td>\n      <td>CN</td>\n      <td>CHN</td>\n      <td>Beijing</td>\n      <td>primary</td>\n      <td>18522000.0</td>\n      <td>1.156229e+09</td>\n    </tr>\n    <tr>\n      <th>14</th>\n      <td>Kolkāta</td>\n      <td>Kolkata</td>\n      <td>22.5675</td>\n      <td>88.3700</td>\n      <td>India</td>\n      <td>IN</td>\n      <td>IND</td>\n      <td>West Bengal</td>\n      <td>admin</td>\n      <td>18502000.0</td>\n      <td>1.356061e+09</td>\n    </tr>\n    <tr>\n      <th>15</th>\n      <td>Bangkok</td>\n      <td>Bangkok</td>\n      <td>13.7525</td>\n      <td>100.4942</td>\n      <td>Thailand</td>\n      <td>TH</td>\n      <td>THA</td>\n      <td>Krung Thep Maha Nakhon</td>\n      <td>primary</td>\n      <td>18007000.0</td>\n      <td>1.764069e+09</td>\n    </tr>\n    <tr>\n      <th>16</th>\n      <td>Shenzhen</td>\n      <td>Shenzhen</td>\n      <td>22.5350</td>\n      <td>114.0540</td>\n      <td>China</td>\n      <td>CN</td>\n      <td>CHN</td>\n      <td>Guangdong</td>\n      <td>minor</td>\n      <td>17619000.0</td>\n      <td>1.156159e+09</td>\n    </tr>\n    <tr>\n      <th>17</th>\n      <td>Moscow</td>\n      <td>Moscow</td>\n      <td>55.7558</td>\n      <td>37.6178</td>\n      <td>Russia</td>\n      <td>RU</td>\n      <td>RUS</td>\n      <td>Moskva</td>\n      <td>primary</td>\n      <td>17332000.0</td>\n      <td>1.643318e+09</td>\n    </tr>\n    <tr>\n      <th>18</th>\n      <td>Buenos Aires</td>\n      <td>Buenos Aires</td>\n      <td>-34.5997</td>\n      <td>-58.3819</td>\n      <td>Argentina</td>\n      <td>AR</td>\n      <td>ARG</td>\n      <td>Buenos Aires, Ciudad Autónoma de</td>\n      <td>primary</td>\n      <td>16710000.0</td>\n      <td>1.032717e+09</td>\n    </tr>\n    <tr>\n      <th>19</th>\n      <td>Lagos</td>\n      <td>Lagos</td>\n      <td>6.4550</td>\n      <td>3.3841</td>\n      <td>Nigeria</td>\n      <td>NG</td>\n      <td>NGA</td>\n      <td>Lagos</td>\n      <td>minor</td>\n      <td>16637000.0</td>\n      <td>1.566594e+09</td>\n    </tr>\n    <tr>\n      <th>20</th>\n      <td>Istanbul</td>\n      <td>Istanbul</td>\n      <td>41.0136</td>\n      <td>28.9550</td>\n      <td>Turkey</td>\n      <td>TR</td>\n      <td>TUR</td>\n      <td>İstanbul</td>\n      <td>admin</td>\n      <td>16079000.0</td>\n      <td>1.792756e+09</td>\n    </tr>\n    <tr>\n      <th>21</th>\n      <td>Karachi</td>\n      <td>Karachi</td>\n      <td>24.8600</td>\n      <td>67.0100</td>\n      <td>Pakistan</td>\n      <td>PK</td>\n      <td>PAK</td>\n      <td>Sindh</td>\n      <td>admin</td>\n      <td>15738000.0</td>\n      <td>1.586129e+09</td>\n    </tr>\n    <tr>\n      <th>22</th>\n      <td>Bangalore</td>\n      <td>Bangalore</td>\n      <td>12.9789</td>\n      <td>77.5917</td>\n      <td>India</td>\n      <td>IN</td>\n      <td>IND</td>\n      <td>Karnātaka</td>\n      <td>admin</td>\n      <td>15386000.0</td>\n      <td>1.356410e+09</td>\n    </tr>\n    <tr>\n      <th>23</th>\n      <td>Ho Chi Minh City</td>\n      <td>Ho Chi Minh City</td>\n      <td>10.7756</td>\n      <td>106.7019</td>\n      <td>Vietnam</td>\n      <td>VN</td>\n      <td>VNM</td>\n      <td>Hồ Chí Minh</td>\n      <td>admin</td>\n      <td>15136000.0</td>\n      <td>1.704774e+09</td>\n    </tr>\n    <tr>\n      <th>24</th>\n      <td>Ōsaka</td>\n      <td>Osaka</td>\n      <td>34.6939</td>\n      <td>135.5022</td>\n      <td>Japan</td>\n      <td>JP</td>\n      <td>JPN</td>\n      <td>Ōsaka</td>\n      <td>admin</td>\n      <td>15126000.0</td>\n      <td>1.392420e+09</td>\n    </tr>\n    <tr>\n      <th>25</th>\n      <td>NaN</td>\n      <td>NaN</td>\n      <td>NaN</td>\n      <td>NaN</td>\n      <td>NaN</td>\n      <td>NaN</td>\n      <td>NaN</td>\n      <td>NaN</td>\n      <td>NaN</td>\n      <td>NaN</td>\n      <td>NaN</td>\n    </tr>\n    <tr>\n      <th>26</th>\n      <td>NaN</td>\n      <td>NaN</td>\n      <td>NaN</td>\n      <td>NaN</td>\n      <td>NaN</td>\n      <td>NaN</td>\n      <td>NaN</td>\n      <td>NaN</td>\n      <td>NaN</td>\n      <td>NaN</td>\n      <td>NaN</td>\n    </tr>\n    <tr>\n      <th>27</th>\n      <td>NaN</td>\n      <td>NaN</td>\n      <td>NaN</td>\n      <td>NaN</td>\n      <td>NaN</td>\n      <td>NaN</td>\n      <td>NaN</td>\n      <td>NaN</td>\n      <td>NaN</td>\n      <td>NaN</td>\n      <td>NaN</td>\n    </tr>\n    <tr>\n      <th>28</th>\n      <td>NaN</td>\n      <td>NaN</td>\n      <td>NaN</td>\n      <td>NaN</td>\n      <td>NaN</td>\n      <td>NaN</td>\n      <td>NaN</td>\n      <td>NaN</td>\n      <td>NaN</td>\n      <td>NaN</td>\n      <td>NaN</td>\n    </tr>\n    <tr>\n      <th>29</th>\n      <td>NaN</td>\n      <td>NaN</td>\n      <td>NaN</td>\n      <td>NaN</td>\n      <td>NaN</td>\n      <td>NaN</td>\n      <td>NaN</td>\n      <td>NaN</td>\n      <td>NaN</td>\n      <td>NaN</td>\n      <td>NaN</td>\n    </tr>\n    <tr>\n      <th>30</th>\n      <td>NaN</td>\n      <td>NaN</td>\n      <td>NaN</td>\n      <td>NaN</td>\n      <td>NaN</td>\n      <td>NaN</td>\n      <td>NaN</td>\n      <td>NaN</td>\n      <td>NaN</td>\n      <td>NaN</td>\n      <td>NaN</td>\n    </tr>\n    <tr>\n      <th>31</th>\n      <td>NaN</td>\n      <td>NaN</td>\n      <td>NaN</td>\n      <td>NaN</td>\n      <td>NaN</td>\n      <td>NaN</td>\n      <td>NaN</td>\n      <td>NaN</td>\n      <td>NaN</td>\n      <td>NaN</td>\n      <td>NaN</td>\n    </tr>\n    <tr>\n      <th>32</th>\n      <td>NaN</td>\n      <td>NaN</td>\n      <td>NaN</td>\n      <td>NaN</td>\n      <td>NaN</td>\n      <td>NaN</td>\n      <td>NaN</td>\n      <td>NaN</td>\n      <td>NaN</td>\n      <td>NaN</td>\n      <td>NaN</td>\n    </tr>\n    <tr>\n      <th>33</th>\n      <td>NaN</td>\n      <td>NaN</td>\n      <td>NaN</td>\n      <td>NaN</td>\n      <td>NaN</td>\n      <td>NaN</td>\n      <td>NaN</td>\n      <td>NaN</td>\n      <td>NaN</td>\n      <td>NaN</td>\n      <td>NaN</td>\n    </tr>\n    <tr>\n      <th>34</th>\n      <td>NaN</td>\n      <td>NaN</td>\n      <td>NaN</td>\n      <td>NaN</td>\n      <td>NaN</td>\n      <td>NaN</td>\n      <td>NaN</td>\n      <td>NaN</td>\n      <td>NaN</td>\n      <td>NaN</td>\n      <td>NaN</td>\n    </tr>\n    <tr>\n      <th>35</th>\n      <td>NaN</td>\n      <td>NaN</td>\n      <td>NaN</td>\n      <td>NaN</td>\n      <td>NaN</td>\n      <td>NaN</td>\n      <td>NaN</td>\n      <td>NaN</td>\n      <td>NaN</td>\n      <td>NaN</td>\n      <td>NaN</td>\n    </tr>\n    <tr>\n      <th>36</th>\n      <td>NaN</td>\n      <td>NaN</td>\n      <td>NaN</td>\n      <td>NaN</td>\n      <td>NaN</td>\n      <td>NaN</td>\n      <td>NaN</td>\n      <td>NaN</td>\n      <td>NaN</td>\n      <td>NaN</td>\n      <td>NaN</td>\n    </tr>\n    <tr>\n      <th>37</th>\n      <td>NaN</td>\n      <td>NaN</td>\n      <td>NaN</td>\n      <td>NaN</td>\n      <td>NaN</td>\n      <td>NaN</td>\n      <td>NaN</td>\n      <td>NaN</td>\n      <td>NaN</td>\n      <td>NaN</td>\n      <td>NaN</td>\n    </tr>\n    <tr>\n      <th>38</th>\n      <td>NaN</td>\n      <td>NaN</td>\n      <td>NaN</td>\n      <td>NaN</td>\n      <td>NaN</td>\n      <td>NaN</td>\n      <td>NaN</td>\n      <td>NaN</td>\n      <td>NaN</td>\n      <td>NaN</td>\n      <td>NaN</td>\n    </tr>\n    <tr>\n      <th>39</th>\n      <td>NaN</td>\n      <td>NaN</td>\n      <td>NaN</td>\n      <td>NaN</td>\n      <td>NaN</td>\n      <td>NaN</td>\n      <td>NaN</td>\n      <td>NaN</td>\n      <td>NaN</td>\n      <td>NaN</td>\n      <td>NaN</td>\n    </tr>\n    <tr>\n      <th>40</th>\n      <td>NaN</td>\n      <td>NaN</td>\n      <td>NaN</td>\n      <td>NaN</td>\n      <td>NaN</td>\n      <td>NaN</td>\n      <td>NaN</td>\n      <td>NaN</td>\n      <td>NaN</td>\n      <td>NaN</td>\n      <td>NaN</td>\n    </tr>\n    <tr>\n      <th>41</th>\n      <td>NaN</td>\n      <td>NaN</td>\n      <td>NaN</td>\n      <td>NaN</td>\n      <td>NaN</td>\n      <td>NaN</td>\n      <td>NaN</td>\n      <td>NaN</td>\n      <td>NaN</td>\n      <td>NaN</td>\n      <td>NaN</td>\n    </tr>\n    <tr>\n      <th>42</th>\n      <td>NaN</td>\n      <td>NaN</td>\n      <td>NaN</td>\n      <td>NaN</td>\n      <td>NaN</td>\n      <td>NaN</td>\n      <td>NaN</td>\n      <td>NaN</td>\n      <td>NaN</td>\n      <td>NaN</td>\n      <td>NaN</td>\n    </tr>\n    <tr>\n      <th>43</th>\n      <td>NaN</td>\n      <td>NaN</td>\n      <td>NaN</td>\n      <td>NaN</td>\n      <td>NaN</td>\n      <td>NaN</td>\n      <td>NaN</td>\n      <td>NaN</td>\n      <td>NaN</td>\n      <td>NaN</td>\n      <td>NaN</td>\n    </tr>\n  </tbody>\n</table>\n</div>"
     },
     "execution_count": 11,
     "metadata": {},
     "output_type": "execute_result"
    }
   ],
   "source": [
    "# city_data where city_data's population is > 10 million.\n",
    "city_data_greater_10mil = city_data[city_data['population']>10000000]\n",
    "\n",
    "# show me city_data > 10m where its population is > 15m\n",
    "city_data_greater_10mil.where(city_data_greater_10mil.population>15000000)"
   ],
   "metadata": {
    "collapsed": false
   }
  },
  {
   "cell_type": "markdown",
   "source": [
    "** Data Operations **"
   ],
   "metadata": {
    "collapsed": false
   }
  },
  {
   "cell_type": "code",
   "execution_count": 12,
   "outputs": [
    {
     "data": {
      "text/plain": "numpy.ndarray"
     },
     "execution_count": 12,
     "metadata": {},
     "output_type": "execute_result"
    }
   ],
   "source": [
    "import numpy as np\n",
    "# create a dataframe of [random 2d array of 8 rows, 3 columns where column names are (a, b. c)]\n",
    "my_dataframe = pd.DataFrame(np.random.randn(8, 3),  columns=['A', 'B', 'C'])\n",
    "\n",
    "# Values will create numpy ndarray from the dataframe by using *values* attribute.\n",
    "np_array = my_dataframe.values\n",
    "type(np_array)"
   ],
   "metadata": {
    "collapsed": false
   }
  },
  {
   "cell_type": "markdown",
   "source": [
    "Missing Data and fillna function"
   ],
   "metadata": {
    "collapsed": false
   }
  },
  {
   "cell_type": "code",
   "execution_count": 13,
   "outputs": [
    {
     "data": {
      "text/plain": "          A         B         C\n0 -0.454909 -0.874327  0.345850\n1 -0.031454 -0.552865 -0.291332\n2 -0.730932  1.467926  1.557561\n3 -0.781734 -1.309284       NaN\n4  0.617420  0.102758  0.703760\n5  0.743364 -1.363435 -1.068972\n6  1.457180  0.466872  0.121296\n7  0.047953 -0.275904  0.472677",
      "text/html": "<div>\n<style scoped>\n    .dataframe tbody tr th:only-of-type {\n        vertical-align: middle;\n    }\n\n    .dataframe tbody tr th {\n        vertical-align: top;\n    }\n\n    .dataframe thead th {\n        text-align: right;\n    }\n</style>\n<table border=\"1\" class=\"dataframe\">\n  <thead>\n    <tr style=\"text-align: right;\">\n      <th></th>\n      <th>A</th>\n      <th>B</th>\n      <th>C</th>\n    </tr>\n  </thead>\n  <tbody>\n    <tr>\n      <th>0</th>\n      <td>-0.454909</td>\n      <td>-0.874327</td>\n      <td>0.345850</td>\n    </tr>\n    <tr>\n      <th>1</th>\n      <td>-0.031454</td>\n      <td>-0.552865</td>\n      <td>-0.291332</td>\n    </tr>\n    <tr>\n      <th>2</th>\n      <td>-0.730932</td>\n      <td>1.467926</td>\n      <td>1.557561</td>\n    </tr>\n    <tr>\n      <th>3</th>\n      <td>-0.781734</td>\n      <td>-1.309284</td>\n      <td>NaN</td>\n    </tr>\n    <tr>\n      <th>4</th>\n      <td>0.617420</td>\n      <td>0.102758</td>\n      <td>0.703760</td>\n    </tr>\n    <tr>\n      <th>5</th>\n      <td>0.743364</td>\n      <td>-1.363435</td>\n      <td>-1.068972</td>\n    </tr>\n    <tr>\n      <th>6</th>\n      <td>1.457180</td>\n      <td>0.466872</td>\n      <td>0.121296</td>\n    </tr>\n    <tr>\n      <th>7</th>\n      <td>0.047953</td>\n      <td>-0.275904</td>\n      <td>0.472677</td>\n    </tr>\n  </tbody>\n</table>\n</div>"
     },
     "execution_count": 13,
     "metadata": {},
     "output_type": "execute_result"
    }
   ],
   "source": [
    "# let's first put a NA value in the dataset.\n",
    "my_dataframe.iloc[3, 2] = None\n",
    "my_dataframe"
   ],
   "metadata": {
    "collapsed": false
   }
  },
  {
   "cell_type": "code",
   "execution_count": 14,
   "outputs": [
    {
     "data": {
      "text/plain": "          A         B         C\n0 -0.454909 -0.874327  0.345850\n1 -0.031454 -0.552865 -0.291332\n2 -0.730932  1.467926  1.557561\n3 -0.781734 -1.309284  0.000000\n4  0.617420  0.102758  0.703760\n5  0.743364 -1.363435 -1.068972\n6  1.457180  0.466872  0.121296\n7  0.047953 -0.275904  0.472677",
      "text/html": "<div>\n<style scoped>\n    .dataframe tbody tr th:only-of-type {\n        vertical-align: middle;\n    }\n\n    .dataframe tbody tr th {\n        vertical-align: top;\n    }\n\n    .dataframe thead th {\n        text-align: right;\n    }\n</style>\n<table border=\"1\" class=\"dataframe\">\n  <thead>\n    <tr style=\"text-align: right;\">\n      <th></th>\n      <th>A</th>\n      <th>B</th>\n      <th>C</th>\n    </tr>\n  </thead>\n  <tbody>\n    <tr>\n      <th>0</th>\n      <td>-0.454909</td>\n      <td>-0.874327</td>\n      <td>0.345850</td>\n    </tr>\n    <tr>\n      <th>1</th>\n      <td>-0.031454</td>\n      <td>-0.552865</td>\n      <td>-0.291332</td>\n    </tr>\n    <tr>\n      <th>2</th>\n      <td>-0.730932</td>\n      <td>1.467926</td>\n      <td>1.557561</td>\n    </tr>\n    <tr>\n      <th>3</th>\n      <td>-0.781734</td>\n      <td>-1.309284</td>\n      <td>0.000000</td>\n    </tr>\n    <tr>\n      <th>4</th>\n      <td>0.617420</td>\n      <td>0.102758</td>\n      <td>0.703760</td>\n    </tr>\n    <tr>\n      <th>5</th>\n      <td>0.743364</td>\n      <td>-1.363435</td>\n      <td>-1.068972</td>\n    </tr>\n    <tr>\n      <th>6</th>\n      <td>1.457180</td>\n      <td>0.466872</td>\n      <td>0.121296</td>\n    </tr>\n    <tr>\n      <th>7</th>\n      <td>0.047953</td>\n      <td>-0.275904</td>\n      <td>0.472677</td>\n    </tr>\n  </tbody>\n</table>\n</div>"
     },
     "execution_count": 14,
     "metadata": {},
     "output_type": "execute_result"
    }
   ],
   "source": [
    "# Now, we will use fillna function to fill na/None/null values.\n",
    "# we will substitute 0 in place of missing values.\n",
    "my_dataframe.fillna(0, inplace = True) # inplace = true means don't return a new df, just do it there.\n",
    "my_dataframe"
   ],
   "metadata": {
    "collapsed": false
   }
  },
  {
   "cell_type": "markdown",
   "source": [
    "**Descriptive Statistics Function**\n",
    "We have to gather as much information about the dataset as possible.\n",
    "So, pandas provides us bunch of functions for the same."
   ],
   "metadata": {
    "collapsed": false
   }
  },
  {
   "cell_type": "code",
   "execution_count": 16,
   "outputs": [
    {
     "data": {
      "text/plain": "lat               25.933692\nlng               14.526105\npopulation    114373.926145\ndtype: float64"
     },
     "execution_count": 16,
     "metadata": {},
     "output_type": "execute_result"
    }
   ],
   "source": [
    "# mean, sum, count, median, quantile, describe\n",
    "columns_numeric = ['lat', 'lng', 'population']\n",
    "city_data[columns_numeric].mean()"
   ],
   "metadata": {
    "collapsed": false
   }
  },
  {
   "cell_type": "code",
   "execution_count": 17,
   "outputs": [
    {
     "data": {
      "text/plain": "lat           44691\nlng           44691\npopulation    44384\ndtype: int64"
     },
     "execution_count": 17,
     "metadata": {},
     "output_type": "execute_result"
    }
   ],
   "source": [
    "city_data[columns_numeric].count()"
   ],
   "metadata": {
    "collapsed": false
   }
  },
  {
   "cell_type": "code",
   "execution_count": 18,
   "outputs": [
    {
     "data": {
      "text/plain": "lat              32.34\nlng              13.50\npopulation    20999.00\ndtype: float64"
     },
     "execution_count": 18,
     "metadata": {},
     "output_type": "execute_result"
    }
   ],
   "source": [
    "city_data[columns_numeric].median()"
   ],
   "metadata": {
    "collapsed": false
   }
  },
  {
   "cell_type": "markdown",
   "source": [
    "![quantile](https://i.stack.imgur.com/AXEzg.png \"Quantile\")"
   ],
   "metadata": {
    "collapsed": false
   }
  },
  {
   "cell_type": "code",
   "execution_count": 19,
   "outputs": [
    {
     "data": {
      "text/plain": "lat              45.9000\nlng              81.2617\npopulation    62198.2000\nName: 0.8, dtype: float64"
     },
     "execution_count": 19,
     "metadata": {},
     "output_type": "execute_result"
    }
   ],
   "source": [
    "city_data[columns_numeric].quantile(0.8)"
   ],
   "metadata": {
    "collapsed": false
   }
  },
  {
   "cell_type": "code",
   "execution_count": 24,
   "outputs": [
    {
     "data": {
      "text/plain": "0        3.773218e+07\n1        3.375610e+07\n2        3.222611e+07\n3        2.694014e+07\n4        2.497309e+07\n             ...     \n44686    1.450000e+02\n44687    7.391660e+01\n44688    3.031660e+01\n44689   -7.745940e+01\n44690    1.855265e+02\nLength: 44691, dtype: float64"
     },
     "execution_count": 24,
     "metadata": {},
     "output_type": "execute_result"
    }
   ],
   "source": [
    "# here axis = 0 or 1 means rows or columns respectively.\n",
    "# axis = 1 is horizontal axis\n",
    "# axis = 0 is vertical axis\n",
    "city_data[columns_numeric].sum(axis = 1)\n",
    "# i.e. (lat+lon+population) in row [1-n)."
   ],
   "metadata": {
    "collapsed": false
   }
  },
  {
   "cell_type": "code",
   "execution_count": 27,
   "outputs": [
    {
     "data": {
      "text/plain": "                lat           lng    population\ncount  44691.000000  44691.000000  4.438400e+04\nmean      25.933692     14.526105  1.143739e+05\nstd       23.225258     71.153080  7.148542e+05\nmin      -54.933300   -179.600000  0.000000e+00\n25%       12.900000    -48.109750  1.218700e+04\n50%       32.340000     13.500000  2.099900e+04\n75%       43.333300     77.316550  4.800775e+04\nmax       81.716600    179.370300  3.773200e+07",
      "text/html": "<div>\n<style scoped>\n    .dataframe tbody tr th:only-of-type {\n        vertical-align: middle;\n    }\n\n    .dataframe tbody tr th {\n        vertical-align: top;\n    }\n\n    .dataframe thead th {\n        text-align: right;\n    }\n</style>\n<table border=\"1\" class=\"dataframe\">\n  <thead>\n    <tr style=\"text-align: right;\">\n      <th></th>\n      <th>lat</th>\n      <th>lng</th>\n      <th>population</th>\n    </tr>\n  </thead>\n  <tbody>\n    <tr>\n      <th>count</th>\n      <td>44691.000000</td>\n      <td>44691.000000</td>\n      <td>4.438400e+04</td>\n    </tr>\n    <tr>\n      <th>mean</th>\n      <td>25.933692</td>\n      <td>14.526105</td>\n      <td>1.143739e+05</td>\n    </tr>\n    <tr>\n      <th>std</th>\n      <td>23.225258</td>\n      <td>71.153080</td>\n      <td>7.148542e+05</td>\n    </tr>\n    <tr>\n      <th>min</th>\n      <td>-54.933300</td>\n      <td>-179.600000</td>\n      <td>0.000000e+00</td>\n    </tr>\n    <tr>\n      <th>25%</th>\n      <td>12.900000</td>\n      <td>-48.109750</td>\n      <td>1.218700e+04</td>\n    </tr>\n    <tr>\n      <th>50%</th>\n      <td>32.340000</td>\n      <td>13.500000</td>\n      <td>2.099900e+04</td>\n    </tr>\n    <tr>\n      <th>75%</th>\n      <td>43.333300</td>\n      <td>77.316550</td>\n      <td>4.800775e+04</td>\n    </tr>\n    <tr>\n      <th>max</th>\n      <td>81.716600</td>\n      <td>179.370300</td>\n      <td>3.773200e+07</td>\n    </tr>\n  </tbody>\n</table>\n</div>"
     },
     "execution_count": 27,
     "metadata": {},
     "output_type": "execute_result"
    }
   ],
   "source": [
    "# describe function calculates most important statistics for numerical data in one go.\n",
    "city_data[columns_numeric].describe()"
   ],
   "metadata": {
    "collapsed": false
   }
  },
  {
   "cell_type": "markdown",
   "source": [
    "**Concatinating Dataframes**\n",
    "1. *Concatenation using concat method*\n",
    "2. *Database style concatenation using the merge command*"
   ],
   "metadata": {
    "collapsed": false
   }
  },
  {
   "cell_type": "code",
   "execution_count": 32,
   "outputs": [
    {
     "data": {
      "text/plain": "                     city          city_ascii      lat       lng  \\\n22926          Loma Linda          Loma Linda  34.0450 -117.2498   \n2506                Yeosu               Yeosu  34.7607  127.6622   \n43908           Timbedgha           Timbedgha  16.2447   -8.1675   \n27209            Ajaigarh            Ajaigarh  24.8988   80.2592   \n43660       Victor Harbor       Victor Harbor -35.5500  138.6167   \n42456  Petilia Policastro  Petilia Policastro  39.1167   16.7833   \n\n             country iso2 iso3        admin_name capital  population  \\\n22926  United States   US  USA        California     NaN     24712.0   \n2506     South Korea   KR  KOR           Jeonnam   minor    273761.0   \n43908     Mauritania   MR  MRT  Hodh ech Chargui     NaN       245.0   \n27209          India   IN  IND    Madhya Pradesh     NaN     18476.0   \n43660      Australia   AU  AUS   South Australia     NaN      4233.0   \n42456          Italy   IT  ITA          Calabria     NaN      9073.0   \n\n               id  \n22926  1840020406  \n2506   1410698161  \n43908  1478847634  \n27209  1356098210  \n43660  1036536547  \n42456  1380377680  ",
      "text/html": "<div>\n<style scoped>\n    .dataframe tbody tr th:only-of-type {\n        vertical-align: middle;\n    }\n\n    .dataframe tbody tr th {\n        vertical-align: top;\n    }\n\n    .dataframe thead th {\n        text-align: right;\n    }\n</style>\n<table border=\"1\" class=\"dataframe\">\n  <thead>\n    <tr style=\"text-align: right;\">\n      <th></th>\n      <th>city</th>\n      <th>city_ascii</th>\n      <th>lat</th>\n      <th>lng</th>\n      <th>country</th>\n      <th>iso2</th>\n      <th>iso3</th>\n      <th>admin_name</th>\n      <th>capital</th>\n      <th>population</th>\n      <th>id</th>\n    </tr>\n  </thead>\n  <tbody>\n    <tr>\n      <th>22926</th>\n      <td>Loma Linda</td>\n      <td>Loma Linda</td>\n      <td>34.0450</td>\n      <td>-117.2498</td>\n      <td>United States</td>\n      <td>US</td>\n      <td>USA</td>\n      <td>California</td>\n      <td>NaN</td>\n      <td>24712.0</td>\n      <td>1840020406</td>\n    </tr>\n    <tr>\n      <th>2506</th>\n      <td>Yeosu</td>\n      <td>Yeosu</td>\n      <td>34.7607</td>\n      <td>127.6622</td>\n      <td>South Korea</td>\n      <td>KR</td>\n      <td>KOR</td>\n      <td>Jeonnam</td>\n      <td>minor</td>\n      <td>273761.0</td>\n      <td>1410698161</td>\n    </tr>\n    <tr>\n      <th>43908</th>\n      <td>Timbedgha</td>\n      <td>Timbedgha</td>\n      <td>16.2447</td>\n      <td>-8.1675</td>\n      <td>Mauritania</td>\n      <td>MR</td>\n      <td>MRT</td>\n      <td>Hodh ech Chargui</td>\n      <td>NaN</td>\n      <td>245.0</td>\n      <td>1478847634</td>\n    </tr>\n    <tr>\n      <th>27209</th>\n      <td>Ajaigarh</td>\n      <td>Ajaigarh</td>\n      <td>24.8988</td>\n      <td>80.2592</td>\n      <td>India</td>\n      <td>IN</td>\n      <td>IND</td>\n      <td>Madhya Pradesh</td>\n      <td>NaN</td>\n      <td>18476.0</td>\n      <td>1356098210</td>\n    </tr>\n    <tr>\n      <th>43660</th>\n      <td>Victor Harbor</td>\n      <td>Victor Harbor</td>\n      <td>-35.5500</td>\n      <td>138.6167</td>\n      <td>Australia</td>\n      <td>AU</td>\n      <td>AUS</td>\n      <td>South Australia</td>\n      <td>NaN</td>\n      <td>4233.0</td>\n      <td>1036536547</td>\n    </tr>\n    <tr>\n      <th>42456</th>\n      <td>Petilia Policastro</td>\n      <td>Petilia Policastro</td>\n      <td>39.1167</td>\n      <td>16.7833</td>\n      <td>Italy</td>\n      <td>IT</td>\n      <td>ITA</td>\n      <td>Calabria</td>\n      <td>NaN</td>\n      <td>9073.0</td>\n      <td>1380377680</td>\n    </tr>\n  </tbody>\n</table>\n</div>"
     },
     "execution_count": 32,
     "metadata": {},
     "output_type": "execute_result"
    }
   ],
   "source": [
    "''' 1. Concatenation using concat method '''\n",
    "\n",
    "''' We will create a sample dataframe of random rows length 3 rows from the one we already have.'''\n",
    "city1_data = city_data.sample(3)\n",
    "city2_data = city_data.sample(3)\n",
    "\"\"\"Now we will combine.\"\"\"\n",
    "combination = pd.concat([city1_data, city2_data])\n",
    "combination"
   ],
   "metadata": {
    "collapsed": false
   }
  },
  {
   "cell_type": "code",
   "execution_count": 35,
   "outputs": [
    {
     "data": {
      "text/plain": "    col1   col2   col3   col4\n0  col10  col20  col30  col40\n1  col11  col21  col31  col41\n2  col12  col22  col32  col42\n3  col13  col23  col33  col43",
      "text/html": "<div>\n<style scoped>\n    .dataframe tbody tr th:only-of-type {\n        vertical-align: middle;\n    }\n\n    .dataframe tbody tr th {\n        vertical-align: top;\n    }\n\n    .dataframe thead th {\n        text-align: right;\n    }\n</style>\n<table border=\"1\" class=\"dataframe\">\n  <thead>\n    <tr style=\"text-align: right;\">\n      <th></th>\n      <th>col1</th>\n      <th>col2</th>\n      <th>col3</th>\n      <th>col4</th>\n    </tr>\n  </thead>\n  <tbody>\n    <tr>\n      <th>0</th>\n      <td>col10</td>\n      <td>col20</td>\n      <td>col30</td>\n      <td>col40</td>\n    </tr>\n    <tr>\n      <th>1</th>\n      <td>col11</td>\n      <td>col21</td>\n      <td>col31</td>\n      <td>col41</td>\n    </tr>\n    <tr>\n      <th>2</th>\n      <td>col12</td>\n      <td>col22</td>\n      <td>col32</td>\n      <td>col42</td>\n    </tr>\n    <tr>\n      <th>3</th>\n      <td>col13</td>\n      <td>col23</td>\n      <td>col33</td>\n      <td>col43</td>\n    </tr>\n  </tbody>\n</table>\n</div>"
     },
     "execution_count": 35,
     "metadata": {},
     "output_type": "execute_result"
    }
   ],
   "source": [
    "df1 = pd.DataFrame({'col1': ['col10', 'col11', 'col12', 'col13'], 'col2': ['col20', 'col21', 'col22', 'col23'], 'col3': ['col30', 'col31', 'col32', 'col33'], 'col4': ['col40', 'col41', 'col42', 'col43']}, index=[0, 1, 2, 3])\n",
    "\n",
    "df1\n"
   ],
   "metadata": {
    "collapsed": false
   }
  },
  {
   "cell_type": "code",
   "execution_count": 36,
   "outputs": [
    {
     "data": {
      "text/plain": "    col2   Col4   col6\n2  col22  Col42  col62\n3  col23  Col43  col63\n6  col26  Col46  col66\n7  col27  Col47  col67",
      "text/html": "<div>\n<style scoped>\n    .dataframe tbody tr th:only-of-type {\n        vertical-align: middle;\n    }\n\n    .dataframe tbody tr th {\n        vertical-align: top;\n    }\n\n    .dataframe thead th {\n        text-align: right;\n    }\n</style>\n<table border=\"1\" class=\"dataframe\">\n  <thead>\n    <tr style=\"text-align: right;\">\n      <th></th>\n      <th>col2</th>\n      <th>Col4</th>\n      <th>col6</th>\n    </tr>\n  </thead>\n  <tbody>\n    <tr>\n      <th>2</th>\n      <td>col22</td>\n      <td>Col42</td>\n      <td>col62</td>\n    </tr>\n    <tr>\n      <th>3</th>\n      <td>col23</td>\n      <td>Col43</td>\n      <td>col63</td>\n    </tr>\n    <tr>\n      <th>6</th>\n      <td>col26</td>\n      <td>Col46</td>\n      <td>col66</td>\n    </tr>\n    <tr>\n      <th>7</th>\n      <td>col27</td>\n      <td>Col47</td>\n      <td>col67</td>\n    </tr>\n  </tbody>\n</table>\n</div>"
     },
     "execution_count": 36,
     "metadata": {},
     "output_type": "execute_result"
    }
   ],
   "source": [
    "df4 = pd.DataFrame({'col2': ['col22', 'col23', 'col26', 'col27'], 'Col4': ['Col42', 'Col43', 'Col46', 'Col47'], 'col6': ['col62', 'col63', 'col66', 'col67']}, index=[2, 3, 6, 7])\n",
    "\n",
    "df4"
   ],
   "metadata": {
    "collapsed": false
   }
  },
  {
   "cell_type": "code",
   "execution_count": 41,
   "outputs": [
    {
     "data": {
      "text/plain": "    col1   col2   col3   col4   col2   Col4   col6\n0  col10  col20  col30  col40    NaN    NaN    NaN\n1  col11  col21  col31  col41    NaN    NaN    NaN\n2  col12  col22  col32  col42  col22  Col42  col62\n3  col13  col23  col33  col43  col23  Col43  col63\n6    NaN    NaN    NaN    NaN  col26  Col46  col66\n7    NaN    NaN    NaN    NaN  col27  Col47  col67",
      "text/html": "<div>\n<style scoped>\n    .dataframe tbody tr th:only-of-type {\n        vertical-align: middle;\n    }\n\n    .dataframe tbody tr th {\n        vertical-align: top;\n    }\n\n    .dataframe thead th {\n        text-align: right;\n    }\n</style>\n<table border=\"1\" class=\"dataframe\">\n  <thead>\n    <tr style=\"text-align: right;\">\n      <th></th>\n      <th>col1</th>\n      <th>col2</th>\n      <th>col3</th>\n      <th>col4</th>\n      <th>col2</th>\n      <th>Col4</th>\n      <th>col6</th>\n    </tr>\n  </thead>\n  <tbody>\n    <tr>\n      <th>0</th>\n      <td>col10</td>\n      <td>col20</td>\n      <td>col30</td>\n      <td>col40</td>\n      <td>NaN</td>\n      <td>NaN</td>\n      <td>NaN</td>\n    </tr>\n    <tr>\n      <th>1</th>\n      <td>col11</td>\n      <td>col21</td>\n      <td>col31</td>\n      <td>col41</td>\n      <td>NaN</td>\n      <td>NaN</td>\n      <td>NaN</td>\n    </tr>\n    <tr>\n      <th>2</th>\n      <td>col12</td>\n      <td>col22</td>\n      <td>col32</td>\n      <td>col42</td>\n      <td>col22</td>\n      <td>Col42</td>\n      <td>col62</td>\n    </tr>\n    <tr>\n      <th>3</th>\n      <td>col13</td>\n      <td>col23</td>\n      <td>col33</td>\n      <td>col43</td>\n      <td>col23</td>\n      <td>Col43</td>\n      <td>col63</td>\n    </tr>\n    <tr>\n      <th>6</th>\n      <td>NaN</td>\n      <td>NaN</td>\n      <td>NaN</td>\n      <td>NaN</td>\n      <td>col26</td>\n      <td>Col46</td>\n      <td>col66</td>\n    </tr>\n    <tr>\n      <th>7</th>\n      <td>NaN</td>\n      <td>NaN</td>\n      <td>NaN</td>\n      <td>NaN</td>\n      <td>col27</td>\n      <td>Col47</td>\n      <td>col67</td>\n    </tr>\n  </tbody>\n</table>\n</div>"
     },
     "execution_count": 41,
     "metadata": {},
     "output_type": "execute_result"
    }
   ],
   "source": [
    "# axis = 1 is horizontal axis\n",
    "# axis = 0 is vertical axis\n",
    "pd.concat([df1, df4], axis = 1)"
   ],
   "metadata": {
    "collapsed": false
   }
  },
  {
   "cell_type": "markdown",
   "source": [],
   "metadata": {
    "collapsed": false
   }
  },
  {
   "cell_type": "code",
   "execution_count": 51,
   "outputs": [
    {
     "data": {
      "text/plain": "       city city_ascii      lat       lng iso2 iso3 admin_name  capital  \\\n0     Tokyo      Tokyo  35.6897  139.6922   JP  JPN      Tōkyō  primary   \n1     Ōsaka      Osaka  34.6939  135.5022   JP  JPN      Ōsaka    admin   \n2    Nagoya     Nagoya  35.1833  136.9000   JP  JPN      Aichi    admin   \n3  Yokohama   Yokohama  35.4442  139.6381   JP  JPN   Kanagawa    admin   \n\n   population          id country  \n0  37732000.0  1392685764   Japan  \n1  15126000.0  1392419823   Japan  \n2   9197000.0  1392407472   Japan  \n3   3757630.0  1392118339   Japan  ",
      "text/html": "<div>\n<style scoped>\n    .dataframe tbody tr th:only-of-type {\n        vertical-align: middle;\n    }\n\n    .dataframe tbody tr th {\n        vertical-align: top;\n    }\n\n    .dataframe thead th {\n        text-align: right;\n    }\n</style>\n<table border=\"1\" class=\"dataframe\">\n  <thead>\n    <tr style=\"text-align: right;\">\n      <th></th>\n      <th>city</th>\n      <th>city_ascii</th>\n      <th>lat</th>\n      <th>lng</th>\n      <th>iso2</th>\n      <th>iso3</th>\n      <th>admin_name</th>\n      <th>capital</th>\n      <th>population</th>\n      <th>id</th>\n      <th>country</th>\n    </tr>\n  </thead>\n  <tbody>\n    <tr>\n      <th>0</th>\n      <td>Tokyo</td>\n      <td>Tokyo</td>\n      <td>35.6897</td>\n      <td>139.6922</td>\n      <td>JP</td>\n      <td>JPN</td>\n      <td>Tōkyō</td>\n      <td>primary</td>\n      <td>37732000.0</td>\n      <td>1392685764</td>\n      <td>Japan</td>\n    </tr>\n    <tr>\n      <th>1</th>\n      <td>Ōsaka</td>\n      <td>Osaka</td>\n      <td>34.6939</td>\n      <td>135.5022</td>\n      <td>JP</td>\n      <td>JPN</td>\n      <td>Ōsaka</td>\n      <td>admin</td>\n      <td>15126000.0</td>\n      <td>1392419823</td>\n      <td>Japan</td>\n    </tr>\n    <tr>\n      <th>2</th>\n      <td>Nagoya</td>\n      <td>Nagoya</td>\n      <td>35.1833</td>\n      <td>136.9000</td>\n      <td>JP</td>\n      <td>JPN</td>\n      <td>Aichi</td>\n      <td>admin</td>\n      <td>9197000.0</td>\n      <td>1392407472</td>\n      <td>Japan</td>\n    </tr>\n    <tr>\n      <th>3</th>\n      <td>Yokohama</td>\n      <td>Yokohama</td>\n      <td>35.4442</td>\n      <td>139.6381</td>\n      <td>JP</td>\n      <td>JPN</td>\n      <td>Kanagawa</td>\n      <td>admin</td>\n      <td>3757630.0</td>\n      <td>1392118339</td>\n      <td>Japan</td>\n    </tr>\n  </tbody>\n</table>\n</div>"
     },
     "execution_count": 51,
     "metadata": {},
     "output_type": "execute_result"
    }
   ],
   "source": [
    "''' 2. Database style concatenation using the merge command. '''\n",
    "\n",
    "country_data = city_data[['iso3', 'country']].drop_duplicates()\n",
    "\n",
    "# deleting country attribute in table.\n",
    "del(city_data['country'])\n",
    "#merging country_data to city_data.\n",
    "city_data.merge(country_data, 'inner').head(4)"
   ],
   "metadata": {
    "collapsed": false
   }
  },
  {
   "cell_type": "markdown",
   "source": [
    "**Indian cities in the dataset that starts with 'F'**"
   ],
   "metadata": {
    "collapsed": false
   }
  },
  {
   "cell_type": "code",
   "execution_count": 47,
   "outputs": [
    {
     "data": {
      "text/plain": "                    city         city_ascii      lat      lng country iso2  \\\n553            Farīdābād          Faridabad  28.4167  77.3000   India   IN   \n2493         Farrukhābād        Farrukhabad  27.3900  79.5810   India   IN   \n3385            Fatehpur           Fatehpur  25.9300  80.8000   India   IN   \n3823             Fyzābād            Fyzabad  26.7730  82.1460   India   IN   \n5483          Ferozepore         Ferozepore  30.9166  74.6000   India   IN   \n9735            Fatehpur           Fatehpur  25.5089  85.1939   India   IN   \n10746      Fatehpur Bāla      Fatehpur Bala  25.8338  85.6928   India   IN   \n12345           Farīdkot           Faridkot  30.6700  74.7600   India   IN   \n12934            Fāzilka            Fazilka  30.4030  74.0250   India   IN   \n13348          Fatehābād          Fatehabad  29.5200  75.4500   India   IN   \n15169              Fatwa              Fatwa  25.5096  85.3050   India   IN   \n15289         Forbesganj         Forbesganj  26.3000  87.2650   India   IN   \n16156       Farrukhnagar       Farrukhnagar  17.0778  78.2011   India   IN   \n19080     Fatehpur Sīkri     Fatehpur Sikri  27.0911  77.6611   India   IN   \n24748            Farakka            Farakka  24.8200  87.9000   India   IN   \n25042  Fatehgarh Chūriān  Fatehgarh Churian  31.8643  74.9567   India   IN   \n25473           Fālākāta           Falakata  26.5300  89.2000   India   IN   \n28154          Fraserpet          Fraserpet  12.4587  75.9605   India   IN   \n32458           Fatehpur           Fatehpur  26.2813  87.1084   India   IN   \n33413          Fatehābād          Fatehabad  26.0652  84.9722   India   IN   \n33563           Fatehpur           Fatehpur  25.2463  87.0380   India   IN   \n34764   Fatehpur Shāhbāz   Fatehpur Shahbaz  25.5698  85.3437   India   IN   \n35445          Fakirtaki          Fakirtaki  22.3815  88.7901   India   IN   \n35797           Falimāri           Falimari  26.3856  89.8233   India   IN   \n36225             Fateha             Fateha  25.6073  85.8669   India   IN   \n36691           Fatehpur           Fatehpur  25.3032  87.8623   India   IN   \n36964           Fatehpur           Fatehpur  24.6297  85.2249   India   IN   \n39322          Fatehābād          Fatehabad  31.3811  75.0996   India   IN   \n41232       Fateh Nangal       Fateh Nangal  31.9453  75.3191   India   IN   \n\n      iso3      admin_name capital  population          id  \n553    IND         Haryāna     NaN   1404653.0  1356013205  \n2493   IND   Uttar Pradesh     NaN    275754.0  1356776384  \n3385   IND   Uttar Pradesh     NaN    193193.0  1356059135  \n3823   IND   Uttar Pradesh     NaN    165228.0  1356032860  \n5483   IND          Punjab     NaN    110313.0  1356060515  \n9735   IND           Bihār     NaN     13279.0  1356353116  \n10746  IND           Bihār     NaN      9069.0  1356643104  \n12345  IND          Punjab     NaN     87695.0  1356743545  \n12934  IND          Punjab     NaN     76492.0  1356509839  \n13348  IND         Haryāna     NaN     70777.0  1356065839  \n15169  IND           Bihār     NaN     51047.0  1356835845  \n15289  IND           Bihār     NaN     50475.0  1356077404  \n16156  IND  Andhra Pradesh     NaN     45675.0  1356373389  \n19080  IND   Uttar Pradesh     NaN     32905.0  1356099769  \n24748  IND     West Bengal     NaN     20126.0  1356510711  \n25042  IND          Punjab     NaN     21007.0  1356030242  \n25473  IND     West Bengal     NaN     19716.0  1356059125  \n28154  IND       Karnātaka     NaN     17405.0  1356131799  \n32458  IND           Bihār     NaN     13041.0  1356115572  \n33413  IND           Bihār     NaN     11645.0  1356317360  \n33563  IND           Bihār     NaN     13017.0  1356278039  \n34764  IND           Bihār     NaN     11480.0  1356045506  \n35445  IND     West Bengal     NaN     10361.0  1356913401  \n35797  IND     West Bengal     NaN     11385.0  1356480147  \n36225  IND           Bihār     NaN      9985.0  1356664955  \n36691  IND     West Bengal     NaN     10423.0  1356847421  \n36964  IND           Bihār     NaN     10431.0  1356495850  \n39322  IND          Punjab     NaN      9992.0  1356555001  \n41232  IND          Punjab     NaN      9154.0  1356102497  ",
      "text/html": "<div>\n<style scoped>\n    .dataframe tbody tr th:only-of-type {\n        vertical-align: middle;\n    }\n\n    .dataframe tbody tr th {\n        vertical-align: top;\n    }\n\n    .dataframe thead th {\n        text-align: right;\n    }\n</style>\n<table border=\"1\" class=\"dataframe\">\n  <thead>\n    <tr style=\"text-align: right;\">\n      <th></th>\n      <th>city</th>\n      <th>city_ascii</th>\n      <th>lat</th>\n      <th>lng</th>\n      <th>country</th>\n      <th>iso2</th>\n      <th>iso3</th>\n      <th>admin_name</th>\n      <th>capital</th>\n      <th>population</th>\n      <th>id</th>\n    </tr>\n  </thead>\n  <tbody>\n    <tr>\n      <th>553</th>\n      <td>Farīdābād</td>\n      <td>Faridabad</td>\n      <td>28.4167</td>\n      <td>77.3000</td>\n      <td>India</td>\n      <td>IN</td>\n      <td>IND</td>\n      <td>Haryāna</td>\n      <td>NaN</td>\n      <td>1404653.0</td>\n      <td>1356013205</td>\n    </tr>\n    <tr>\n      <th>2493</th>\n      <td>Farrukhābād</td>\n      <td>Farrukhabad</td>\n      <td>27.3900</td>\n      <td>79.5810</td>\n      <td>India</td>\n      <td>IN</td>\n      <td>IND</td>\n      <td>Uttar Pradesh</td>\n      <td>NaN</td>\n      <td>275754.0</td>\n      <td>1356776384</td>\n    </tr>\n    <tr>\n      <th>3385</th>\n      <td>Fatehpur</td>\n      <td>Fatehpur</td>\n      <td>25.9300</td>\n      <td>80.8000</td>\n      <td>India</td>\n      <td>IN</td>\n      <td>IND</td>\n      <td>Uttar Pradesh</td>\n      <td>NaN</td>\n      <td>193193.0</td>\n      <td>1356059135</td>\n    </tr>\n    <tr>\n      <th>3823</th>\n      <td>Fyzābād</td>\n      <td>Fyzabad</td>\n      <td>26.7730</td>\n      <td>82.1460</td>\n      <td>India</td>\n      <td>IN</td>\n      <td>IND</td>\n      <td>Uttar Pradesh</td>\n      <td>NaN</td>\n      <td>165228.0</td>\n      <td>1356032860</td>\n    </tr>\n    <tr>\n      <th>5483</th>\n      <td>Ferozepore</td>\n      <td>Ferozepore</td>\n      <td>30.9166</td>\n      <td>74.6000</td>\n      <td>India</td>\n      <td>IN</td>\n      <td>IND</td>\n      <td>Punjab</td>\n      <td>NaN</td>\n      <td>110313.0</td>\n      <td>1356060515</td>\n    </tr>\n    <tr>\n      <th>9735</th>\n      <td>Fatehpur</td>\n      <td>Fatehpur</td>\n      <td>25.5089</td>\n      <td>85.1939</td>\n      <td>India</td>\n      <td>IN</td>\n      <td>IND</td>\n      <td>Bihār</td>\n      <td>NaN</td>\n      <td>13279.0</td>\n      <td>1356353116</td>\n    </tr>\n    <tr>\n      <th>10746</th>\n      <td>Fatehpur Bāla</td>\n      <td>Fatehpur Bala</td>\n      <td>25.8338</td>\n      <td>85.6928</td>\n      <td>India</td>\n      <td>IN</td>\n      <td>IND</td>\n      <td>Bihār</td>\n      <td>NaN</td>\n      <td>9069.0</td>\n      <td>1356643104</td>\n    </tr>\n    <tr>\n      <th>12345</th>\n      <td>Farīdkot</td>\n      <td>Faridkot</td>\n      <td>30.6700</td>\n      <td>74.7600</td>\n      <td>India</td>\n      <td>IN</td>\n      <td>IND</td>\n      <td>Punjab</td>\n      <td>NaN</td>\n      <td>87695.0</td>\n      <td>1356743545</td>\n    </tr>\n    <tr>\n      <th>12934</th>\n      <td>Fāzilka</td>\n      <td>Fazilka</td>\n      <td>30.4030</td>\n      <td>74.0250</td>\n      <td>India</td>\n      <td>IN</td>\n      <td>IND</td>\n      <td>Punjab</td>\n      <td>NaN</td>\n      <td>76492.0</td>\n      <td>1356509839</td>\n    </tr>\n    <tr>\n      <th>13348</th>\n      <td>Fatehābād</td>\n      <td>Fatehabad</td>\n      <td>29.5200</td>\n      <td>75.4500</td>\n      <td>India</td>\n      <td>IN</td>\n      <td>IND</td>\n      <td>Haryāna</td>\n      <td>NaN</td>\n      <td>70777.0</td>\n      <td>1356065839</td>\n    </tr>\n    <tr>\n      <th>15169</th>\n      <td>Fatwa</td>\n      <td>Fatwa</td>\n      <td>25.5096</td>\n      <td>85.3050</td>\n      <td>India</td>\n      <td>IN</td>\n      <td>IND</td>\n      <td>Bihār</td>\n      <td>NaN</td>\n      <td>51047.0</td>\n      <td>1356835845</td>\n    </tr>\n    <tr>\n      <th>15289</th>\n      <td>Forbesganj</td>\n      <td>Forbesganj</td>\n      <td>26.3000</td>\n      <td>87.2650</td>\n      <td>India</td>\n      <td>IN</td>\n      <td>IND</td>\n      <td>Bihār</td>\n      <td>NaN</td>\n      <td>50475.0</td>\n      <td>1356077404</td>\n    </tr>\n    <tr>\n      <th>16156</th>\n      <td>Farrukhnagar</td>\n      <td>Farrukhnagar</td>\n      <td>17.0778</td>\n      <td>78.2011</td>\n      <td>India</td>\n      <td>IN</td>\n      <td>IND</td>\n      <td>Andhra Pradesh</td>\n      <td>NaN</td>\n      <td>45675.0</td>\n      <td>1356373389</td>\n    </tr>\n    <tr>\n      <th>19080</th>\n      <td>Fatehpur Sīkri</td>\n      <td>Fatehpur Sikri</td>\n      <td>27.0911</td>\n      <td>77.6611</td>\n      <td>India</td>\n      <td>IN</td>\n      <td>IND</td>\n      <td>Uttar Pradesh</td>\n      <td>NaN</td>\n      <td>32905.0</td>\n      <td>1356099769</td>\n    </tr>\n    <tr>\n      <th>24748</th>\n      <td>Farakka</td>\n      <td>Farakka</td>\n      <td>24.8200</td>\n      <td>87.9000</td>\n      <td>India</td>\n      <td>IN</td>\n      <td>IND</td>\n      <td>West Bengal</td>\n      <td>NaN</td>\n      <td>20126.0</td>\n      <td>1356510711</td>\n    </tr>\n    <tr>\n      <th>25042</th>\n      <td>Fatehgarh Chūriān</td>\n      <td>Fatehgarh Churian</td>\n      <td>31.8643</td>\n      <td>74.9567</td>\n      <td>India</td>\n      <td>IN</td>\n      <td>IND</td>\n      <td>Punjab</td>\n      <td>NaN</td>\n      <td>21007.0</td>\n      <td>1356030242</td>\n    </tr>\n    <tr>\n      <th>25473</th>\n      <td>Fālākāta</td>\n      <td>Falakata</td>\n      <td>26.5300</td>\n      <td>89.2000</td>\n      <td>India</td>\n      <td>IN</td>\n      <td>IND</td>\n      <td>West Bengal</td>\n      <td>NaN</td>\n      <td>19716.0</td>\n      <td>1356059125</td>\n    </tr>\n    <tr>\n      <th>28154</th>\n      <td>Fraserpet</td>\n      <td>Fraserpet</td>\n      <td>12.4587</td>\n      <td>75.9605</td>\n      <td>India</td>\n      <td>IN</td>\n      <td>IND</td>\n      <td>Karnātaka</td>\n      <td>NaN</td>\n      <td>17405.0</td>\n      <td>1356131799</td>\n    </tr>\n    <tr>\n      <th>32458</th>\n      <td>Fatehpur</td>\n      <td>Fatehpur</td>\n      <td>26.2813</td>\n      <td>87.1084</td>\n      <td>India</td>\n      <td>IN</td>\n      <td>IND</td>\n      <td>Bihār</td>\n      <td>NaN</td>\n      <td>13041.0</td>\n      <td>1356115572</td>\n    </tr>\n    <tr>\n      <th>33413</th>\n      <td>Fatehābād</td>\n      <td>Fatehabad</td>\n      <td>26.0652</td>\n      <td>84.9722</td>\n      <td>India</td>\n      <td>IN</td>\n      <td>IND</td>\n      <td>Bihār</td>\n      <td>NaN</td>\n      <td>11645.0</td>\n      <td>1356317360</td>\n    </tr>\n    <tr>\n      <th>33563</th>\n      <td>Fatehpur</td>\n      <td>Fatehpur</td>\n      <td>25.2463</td>\n      <td>87.0380</td>\n      <td>India</td>\n      <td>IN</td>\n      <td>IND</td>\n      <td>Bihār</td>\n      <td>NaN</td>\n      <td>13017.0</td>\n      <td>1356278039</td>\n    </tr>\n    <tr>\n      <th>34764</th>\n      <td>Fatehpur Shāhbāz</td>\n      <td>Fatehpur Shahbaz</td>\n      <td>25.5698</td>\n      <td>85.3437</td>\n      <td>India</td>\n      <td>IN</td>\n      <td>IND</td>\n      <td>Bihār</td>\n      <td>NaN</td>\n      <td>11480.0</td>\n      <td>1356045506</td>\n    </tr>\n    <tr>\n      <th>35445</th>\n      <td>Fakirtaki</td>\n      <td>Fakirtaki</td>\n      <td>22.3815</td>\n      <td>88.7901</td>\n      <td>India</td>\n      <td>IN</td>\n      <td>IND</td>\n      <td>West Bengal</td>\n      <td>NaN</td>\n      <td>10361.0</td>\n      <td>1356913401</td>\n    </tr>\n    <tr>\n      <th>35797</th>\n      <td>Falimāri</td>\n      <td>Falimari</td>\n      <td>26.3856</td>\n      <td>89.8233</td>\n      <td>India</td>\n      <td>IN</td>\n      <td>IND</td>\n      <td>West Bengal</td>\n      <td>NaN</td>\n      <td>11385.0</td>\n      <td>1356480147</td>\n    </tr>\n    <tr>\n      <th>36225</th>\n      <td>Fateha</td>\n      <td>Fateha</td>\n      <td>25.6073</td>\n      <td>85.8669</td>\n      <td>India</td>\n      <td>IN</td>\n      <td>IND</td>\n      <td>Bihār</td>\n      <td>NaN</td>\n      <td>9985.0</td>\n      <td>1356664955</td>\n    </tr>\n    <tr>\n      <th>36691</th>\n      <td>Fatehpur</td>\n      <td>Fatehpur</td>\n      <td>25.3032</td>\n      <td>87.8623</td>\n      <td>India</td>\n      <td>IN</td>\n      <td>IND</td>\n      <td>West Bengal</td>\n      <td>NaN</td>\n      <td>10423.0</td>\n      <td>1356847421</td>\n    </tr>\n    <tr>\n      <th>36964</th>\n      <td>Fatehpur</td>\n      <td>Fatehpur</td>\n      <td>24.6297</td>\n      <td>85.2249</td>\n      <td>India</td>\n      <td>IN</td>\n      <td>IND</td>\n      <td>Bihār</td>\n      <td>NaN</td>\n      <td>10431.0</td>\n      <td>1356495850</td>\n    </tr>\n    <tr>\n      <th>39322</th>\n      <td>Fatehābād</td>\n      <td>Fatehabad</td>\n      <td>31.3811</td>\n      <td>75.0996</td>\n      <td>India</td>\n      <td>IN</td>\n      <td>IND</td>\n      <td>Punjab</td>\n      <td>NaN</td>\n      <td>9992.0</td>\n      <td>1356555001</td>\n    </tr>\n    <tr>\n      <th>41232</th>\n      <td>Fateh Nangal</td>\n      <td>Fateh Nangal</td>\n      <td>31.9453</td>\n      <td>75.3191</td>\n      <td>India</td>\n      <td>IN</td>\n      <td>IND</td>\n      <td>Punjab</td>\n      <td>NaN</td>\n      <td>9154.0</td>\n      <td>1356102497</td>\n    </tr>\n  </tbody>\n</table>\n</div>"
     },
     "execution_count": 47,
     "metadata": {},
     "output_type": "execute_result"
    }
   ],
   "source": [
    "indian_cities = city_data[city_data['country']==\"India\"].drop_duplicates()\n",
    "indian_cities.loc[indian_cities['city'].str.startswith('F')]"
   ],
   "metadata": {
    "collapsed": false
   }
  }
 ],
 "metadata": {
  "kernelspec": {
   "display_name": "Python 3",
   "language": "python",
   "name": "python3"
  },
  "language_info": {
   "codemirror_mode": {
    "name": "ipython",
    "version": 2
   },
   "file_extension": ".py",
   "mimetype": "text/x-python",
   "name": "python",
   "nbconvert_exporter": "python",
   "pygments_lexer": "ipython2",
   "version": "2.7.6"
  }
 },
 "nbformat": 4,
 "nbformat_minor": 0
}
