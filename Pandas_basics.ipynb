{
 "cells": [
  {
   "cell_type": "markdown",
   "source": [
    "**Pandas library is used to analyze data.**\n",
    "\n",
    "*It provides numerous ways to retrieve and read in data.*\n",
    "==we can convert data from csv, dictionaries, and Databases into dataframe.=="
   ],
   "metadata": {
    "collapsed": false
   }
  },
  {
   "cell_type": "markdown",
   "source": [
    "All the data representation is done using two datastructures:\n",
    "1. Series\n",
    "2. Dataframe\n",
    "\n",
    "- *Series in pandas is a one-dimensional ndarray with an axis label. It means that in functionality, it is almost similar to a simple array.*\n",
    "\n",
    "- Dataframe is the most important and useful data structure, which is used for almost all kind of data representation and manipulation in pandas. *Unlike numpy arrays (in general) a dataframe can contain heterogeneous data. Typically tabular data is represented using dataframes, which is analogous to an Excel sheet or a SQL table.*\n",
    "\n",
    "\n",
    "\n",
    "- Heterogeneous data structures are data structures that contain diverse types of data, such as integers, doubles, and floats."
   ],
   "metadata": {
    "collapsed": false
   }
  },
  {
   "cell_type": "code",
   "execution_count": 29,
   "metadata": {
    "collapsed": true
   },
   "outputs": [
    {
     "data": {
      "text/plain": "        city  data\n0  Bangalore  5000\n1      Delhi  2000\n2     mumbai  5601",
      "text/html": "<div>\n<style scoped>\n    .dataframe tbody tr th:only-of-type {\n        vertical-align: middle;\n    }\n\n    .dataframe tbody tr th {\n        vertical-align: top;\n    }\n\n    .dataframe thead th {\n        text-align: right;\n    }\n</style>\n<table border=\"1\" class=\"dataframe\">\n  <thead>\n    <tr style=\"text-align: right;\">\n      <th></th>\n      <th>city</th>\n      <th>data</th>\n    </tr>\n  </thead>\n  <tbody>\n    <tr>\n      <th>0</th>\n      <td>Bangalore</td>\n      <td>5000</td>\n    </tr>\n    <tr>\n      <th>1</th>\n      <td>Delhi</td>\n      <td>2000</td>\n    </tr>\n    <tr>\n      <th>2</th>\n      <td>mumbai</td>\n      <td>5601</td>\n    </tr>\n  </tbody>\n</table>\n</div>"
     },
     "execution_count": 29,
     "metadata": {},
     "output_type": "execute_result"
    }
   ],
   "source": [
    "import pandas as pd\n",
    "\n",
    "#  pd.DataFrame() reads data in form of dict, csv or db and converts it into known relational format.\n",
    "data = [{'city': 'Bangalore', 'data': 5000},\n",
    "        {'city': 'Delhi', 'data': 2000},\n",
    "        {'city': 'mumbai', 'data': 5601}]\n",
    "pd.DataFrame(data)\n"
   ]
  },
  {
   "cell_type": "markdown",
   "source": [
    "pd.read_csv() reads the csv file from the specified location and makes a df out of it."
   ],
   "metadata": {
    "collapsed": false
   }
  },
  {
   "cell_type": "code",
   "execution_count": 30,
   "outputs": [
    {
     "data": {
      "text/plain": "          city   city_ascii      lat       lng      country iso2 iso3  \\\n0        Tokyo        Tokyo  35.6897  139.6922        Japan   JP  JPN   \n1      Jakarta      Jakarta  -6.1750  106.8275    Indonesia   ID  IDN   \n2        Delhi        Delhi  28.6100   77.2300        India   IN  IND   \n3    Guangzhou    Guangzhou  23.1300  113.2600        China   CN  CHN   \n4       Mumbai       Mumbai  19.0761   72.8775        India   IN  IND   \n5       Manila       Manila  14.5958  120.9772  Philippines   PH  PHL   \n6     Shanghai     Shanghai  31.1667  121.4667        China   CN  CHN   \n7    São Paulo    Sao Paulo -23.5500  -46.6333       Brazil   BR  BRA   \n8        Seoul        Seoul  37.5600  126.9900  South Korea   KR  KOR   \n9  Mexico City  Mexico City  19.4333  -99.1333       Mexico   MX  MEX   \n\n         admin_name  capital  population          id  \n0             Tōkyō  primary  37732000.0  1392685764  \n1           Jakarta  primary  33756000.0  1360771077  \n2             Delhi    admin  32226000.0  1356872604  \n3         Guangdong    admin  26940000.0  1156237133  \n4       Mahārāshtra    admin  24973000.0  1356226629  \n5            Manila  primary  24922000.0  1608618140  \n6          Shanghai    admin  24073000.0  1156073548  \n7         São Paulo    admin  23086000.0  1076532519  \n8             Seoul  primary  23016000.0  1410836482  \n9  Ciudad de México  primary  21804000.0  1484247881  ",
      "text/html": "<div>\n<style scoped>\n    .dataframe tbody tr th:only-of-type {\n        vertical-align: middle;\n    }\n\n    .dataframe tbody tr th {\n        vertical-align: top;\n    }\n\n    .dataframe thead th {\n        text-align: right;\n    }\n</style>\n<table border=\"1\" class=\"dataframe\">\n  <thead>\n    <tr style=\"text-align: right;\">\n      <th></th>\n      <th>city</th>\n      <th>city_ascii</th>\n      <th>lat</th>\n      <th>lng</th>\n      <th>country</th>\n      <th>iso2</th>\n      <th>iso3</th>\n      <th>admin_name</th>\n      <th>capital</th>\n      <th>population</th>\n      <th>id</th>\n    </tr>\n  </thead>\n  <tbody>\n    <tr>\n      <th>0</th>\n      <td>Tokyo</td>\n      <td>Tokyo</td>\n      <td>35.6897</td>\n      <td>139.6922</td>\n      <td>Japan</td>\n      <td>JP</td>\n      <td>JPN</td>\n      <td>Tōkyō</td>\n      <td>primary</td>\n      <td>37732000.0</td>\n      <td>1392685764</td>\n    </tr>\n    <tr>\n      <th>1</th>\n      <td>Jakarta</td>\n      <td>Jakarta</td>\n      <td>-6.1750</td>\n      <td>106.8275</td>\n      <td>Indonesia</td>\n      <td>ID</td>\n      <td>IDN</td>\n      <td>Jakarta</td>\n      <td>primary</td>\n      <td>33756000.0</td>\n      <td>1360771077</td>\n    </tr>\n    <tr>\n      <th>2</th>\n      <td>Delhi</td>\n      <td>Delhi</td>\n      <td>28.6100</td>\n      <td>77.2300</td>\n      <td>India</td>\n      <td>IN</td>\n      <td>IND</td>\n      <td>Delhi</td>\n      <td>admin</td>\n      <td>32226000.0</td>\n      <td>1356872604</td>\n    </tr>\n    <tr>\n      <th>3</th>\n      <td>Guangzhou</td>\n      <td>Guangzhou</td>\n      <td>23.1300</td>\n      <td>113.2600</td>\n      <td>China</td>\n      <td>CN</td>\n      <td>CHN</td>\n      <td>Guangdong</td>\n      <td>admin</td>\n      <td>26940000.0</td>\n      <td>1156237133</td>\n    </tr>\n    <tr>\n      <th>4</th>\n      <td>Mumbai</td>\n      <td>Mumbai</td>\n      <td>19.0761</td>\n      <td>72.8775</td>\n      <td>India</td>\n      <td>IN</td>\n      <td>IND</td>\n      <td>Mahārāshtra</td>\n      <td>admin</td>\n      <td>24973000.0</td>\n      <td>1356226629</td>\n    </tr>\n    <tr>\n      <th>5</th>\n      <td>Manila</td>\n      <td>Manila</td>\n      <td>14.5958</td>\n      <td>120.9772</td>\n      <td>Philippines</td>\n      <td>PH</td>\n      <td>PHL</td>\n      <td>Manila</td>\n      <td>primary</td>\n      <td>24922000.0</td>\n      <td>1608618140</td>\n    </tr>\n    <tr>\n      <th>6</th>\n      <td>Shanghai</td>\n      <td>Shanghai</td>\n      <td>31.1667</td>\n      <td>121.4667</td>\n      <td>China</td>\n      <td>CN</td>\n      <td>CHN</td>\n      <td>Shanghai</td>\n      <td>admin</td>\n      <td>24073000.0</td>\n      <td>1156073548</td>\n    </tr>\n    <tr>\n      <th>7</th>\n      <td>São Paulo</td>\n      <td>Sao Paulo</td>\n      <td>-23.5500</td>\n      <td>-46.6333</td>\n      <td>Brazil</td>\n      <td>BR</td>\n      <td>BRA</td>\n      <td>São Paulo</td>\n      <td>admin</td>\n      <td>23086000.0</td>\n      <td>1076532519</td>\n    </tr>\n    <tr>\n      <th>8</th>\n      <td>Seoul</td>\n      <td>Seoul</td>\n      <td>37.5600</td>\n      <td>126.9900</td>\n      <td>South Korea</td>\n      <td>KR</td>\n      <td>KOR</td>\n      <td>Seoul</td>\n      <td>primary</td>\n      <td>23016000.0</td>\n      <td>1410836482</td>\n    </tr>\n    <tr>\n      <th>9</th>\n      <td>Mexico City</td>\n      <td>Mexico City</td>\n      <td>19.4333</td>\n      <td>-99.1333</td>\n      <td>Mexico</td>\n      <td>MX</td>\n      <td>MEX</td>\n      <td>Ciudad de México</td>\n      <td>primary</td>\n      <td>21804000.0</td>\n      <td>1484247881</td>\n    </tr>\n  </tbody>\n</table>\n</div>"
     },
     "execution_count": 30,
     "metadata": {},
     "output_type": "execute_result"
    }
   ],
   "source": [
    "city_data = pd.read_csv(\"C:\\\\Users\\\\Vasu\\\\Documents\\\\Notebooks\\\\Jupyter Notebooks\\\\Data\\\\simplemaps_worldcities_basicv1.76\\\\worldcities.csv\")\n",
    "city_data.head(10)"
   ],
   "metadata": {
    "collapsed": false
   }
  },
  {
   "cell_type": "markdown",
   "source": [
    "To connect to databases:\n",
    "\n",
    "server = 'xxxxxxxx' # Address of the database server\n",
    "user = 'xxxxxx' # the username for the database server\n",
    "password = 'xxxxx' # Password for the above user\n",
    "database = 'xxxxx' # Database in which the table is present\n",
    "conn = pymssql.connect(server=server, user=user, password=password, database=database)\n",
    "query = \"select * from some_table\"\n",
    "df = pd.read_sql(query, conn)"
   ],
   "metadata": {
    "collapsed": false
   }
  },
  {
   "cell_type": "code",
   "execution_count": 31,
   "outputs": [
    {
     "data": {
      "text/plain": "               city    city_ascii      lat       lng    country iso2 iso3  \\\n44681  Starorybnoye  Starorybnoye  72.7666  104.8000     Russia   RU  RUS   \n44682      Sagastyr      Sagastyr  73.3779  126.5924     Russia   RU  RUS   \n44683  Zemlya Bunge  Zemlya Bunge  74.8983  142.1050     Russia   RU  RUS   \n44684         Agapa         Agapa  71.4504   89.2500     Russia   RU  RUS   \n44685        Tukchi        Tukchi  57.3670  139.5000     Russia   RU  RUS   \n44686         Numto         Numto  63.6667   71.3333     Russia   RU  RUS   \n44687          Nord          Nord  81.7166  -17.8000  Greenland   GL  GRL   \n44688   Timmiarmiut   Timmiarmiut  62.5333  -42.2167  Greenland   GL  GRL   \n44689    San Rafael    San Rafael -16.7795  -60.6799    Bolivia   BO  BOL   \n44690       Nordvik       Nordvik  74.0165  111.5100     Russia   RU  RUS   \n\n                                     admin_name capital  population  \\\n44681                        Krasnoyarskiy Kray     NaN        10.0   \n44682                          Sakha (Yakutiya)     NaN        10.0   \n44683                          Sakha (Yakutiya)     NaN        10.0   \n44684                        Krasnoyarskiy Kray     NaN        10.0   \n44685                         Khabarovskiy Kray     NaN        10.0   \n44686  Khanty-Mansiyskiy Avtonomnyy Okrug-Yugra     NaN        10.0   \n44687                                       NaN     NaN        10.0   \n44688                                  Kujalleq     NaN        10.0   \n44689                                Santa Cruz     NaN         NaN   \n44690                        Krasnoyarskiy Kray     NaN         0.0   \n\n               id  \n44681  1643724242  \n44682  1643535665  \n44683  1643720805  \n44684  1643009087  \n44685  1643472801  \n44686  1643985006  \n44687  1304217709  \n44688  1304206491  \n44689  1068405265  \n44690  1643587468  ",
      "text/html": "<div>\n<style scoped>\n    .dataframe tbody tr th:only-of-type {\n        vertical-align: middle;\n    }\n\n    .dataframe tbody tr th {\n        vertical-align: top;\n    }\n\n    .dataframe thead th {\n        text-align: right;\n    }\n</style>\n<table border=\"1\" class=\"dataframe\">\n  <thead>\n    <tr style=\"text-align: right;\">\n      <th></th>\n      <th>city</th>\n      <th>city_ascii</th>\n      <th>lat</th>\n      <th>lng</th>\n      <th>country</th>\n      <th>iso2</th>\n      <th>iso3</th>\n      <th>admin_name</th>\n      <th>capital</th>\n      <th>population</th>\n      <th>id</th>\n    </tr>\n  </thead>\n  <tbody>\n    <tr>\n      <th>44681</th>\n      <td>Starorybnoye</td>\n      <td>Starorybnoye</td>\n      <td>72.7666</td>\n      <td>104.8000</td>\n      <td>Russia</td>\n      <td>RU</td>\n      <td>RUS</td>\n      <td>Krasnoyarskiy Kray</td>\n      <td>NaN</td>\n      <td>10.0</td>\n      <td>1643724242</td>\n    </tr>\n    <tr>\n      <th>44682</th>\n      <td>Sagastyr</td>\n      <td>Sagastyr</td>\n      <td>73.3779</td>\n      <td>126.5924</td>\n      <td>Russia</td>\n      <td>RU</td>\n      <td>RUS</td>\n      <td>Sakha (Yakutiya)</td>\n      <td>NaN</td>\n      <td>10.0</td>\n      <td>1643535665</td>\n    </tr>\n    <tr>\n      <th>44683</th>\n      <td>Zemlya Bunge</td>\n      <td>Zemlya Bunge</td>\n      <td>74.8983</td>\n      <td>142.1050</td>\n      <td>Russia</td>\n      <td>RU</td>\n      <td>RUS</td>\n      <td>Sakha (Yakutiya)</td>\n      <td>NaN</td>\n      <td>10.0</td>\n      <td>1643720805</td>\n    </tr>\n    <tr>\n      <th>44684</th>\n      <td>Agapa</td>\n      <td>Agapa</td>\n      <td>71.4504</td>\n      <td>89.2500</td>\n      <td>Russia</td>\n      <td>RU</td>\n      <td>RUS</td>\n      <td>Krasnoyarskiy Kray</td>\n      <td>NaN</td>\n      <td>10.0</td>\n      <td>1643009087</td>\n    </tr>\n    <tr>\n      <th>44685</th>\n      <td>Tukchi</td>\n      <td>Tukchi</td>\n      <td>57.3670</td>\n      <td>139.5000</td>\n      <td>Russia</td>\n      <td>RU</td>\n      <td>RUS</td>\n      <td>Khabarovskiy Kray</td>\n      <td>NaN</td>\n      <td>10.0</td>\n      <td>1643472801</td>\n    </tr>\n    <tr>\n      <th>44686</th>\n      <td>Numto</td>\n      <td>Numto</td>\n      <td>63.6667</td>\n      <td>71.3333</td>\n      <td>Russia</td>\n      <td>RU</td>\n      <td>RUS</td>\n      <td>Khanty-Mansiyskiy Avtonomnyy Okrug-Yugra</td>\n      <td>NaN</td>\n      <td>10.0</td>\n      <td>1643985006</td>\n    </tr>\n    <tr>\n      <th>44687</th>\n      <td>Nord</td>\n      <td>Nord</td>\n      <td>81.7166</td>\n      <td>-17.8000</td>\n      <td>Greenland</td>\n      <td>GL</td>\n      <td>GRL</td>\n      <td>NaN</td>\n      <td>NaN</td>\n      <td>10.0</td>\n      <td>1304217709</td>\n    </tr>\n    <tr>\n      <th>44688</th>\n      <td>Timmiarmiut</td>\n      <td>Timmiarmiut</td>\n      <td>62.5333</td>\n      <td>-42.2167</td>\n      <td>Greenland</td>\n      <td>GL</td>\n      <td>GRL</td>\n      <td>Kujalleq</td>\n      <td>NaN</td>\n      <td>10.0</td>\n      <td>1304206491</td>\n    </tr>\n    <tr>\n      <th>44689</th>\n      <td>San Rafael</td>\n      <td>San Rafael</td>\n      <td>-16.7795</td>\n      <td>-60.6799</td>\n      <td>Bolivia</td>\n      <td>BO</td>\n      <td>BOL</td>\n      <td>Santa Cruz</td>\n      <td>NaN</td>\n      <td>NaN</td>\n      <td>1068405265</td>\n    </tr>\n    <tr>\n      <th>44690</th>\n      <td>Nordvik</td>\n      <td>Nordvik</td>\n      <td>74.0165</td>\n      <td>111.5100</td>\n      <td>Russia</td>\n      <td>RU</td>\n      <td>RUS</td>\n      <td>Krasnoyarskiy Kray</td>\n      <td>NaN</td>\n      <td>0.0</td>\n      <td>1643587468</td>\n    </tr>\n  </tbody>\n</table>\n</div>"
     },
     "execution_count": 31,
     "metadata": {},
     "output_type": "execute_result"
    }
   ],
   "source": [
    "city_data.tail(10)"
   ],
   "metadata": {
    "collapsed": false
   }
  },
  {
   "cell_type": "markdown",
   "source": [
    "Data Access"
   ],
   "metadata": {
    "collapsed": false
   }
  },
  {
   "cell_type": "code",
   "execution_count": 32,
   "outputs": [
    {
     "data": {
      "text/plain": "1    -6.1750\n3    23.1300\n5    14.5958\n7   -23.5500\n9    19.4333\nName: lat, dtype: float64"
     },
     "execution_count": 32,
     "metadata": {},
     "output_type": "execute_result"
    }
   ],
   "source": [
    "series_es = city_data.lat     # lat is the column name in the city_data dataframe.\n",
    "series_es[1:10:2]             # slicing from 1 to 10 skipping every second entry."
   ],
   "metadata": {
    "collapsed": false
   }
  },
  {
   "cell_type": "markdown",
   "source": [
    "Slicing in Pandas series can help to access desired values."
   ],
   "metadata": {
    "collapsed": false
   }
  },
  {
   "cell_type": "code",
   "execution_count": 33,
   "outputs": [
    {
     "data": {
      "text/plain": "0        35.6897\n1        -6.1750\n2        28.6100\n3        23.1300\n4        19.0761\n          ...   \n37371    53.4302\n37372    26.2336\n37373    53.2000\n37374    50.9667\n37375    43.9115\nName: lat, Length: 37376, dtype: float64"
     },
     "execution_count": 33,
     "metadata": {},
     "output_type": "execute_result"
    }
   ],
   "source": [
    "series_es[:7]       # first 7 data items.\n",
    "series_es[:-7315]   # excluding last 7315 items.items"
   ],
   "metadata": {
    "collapsed": false
   }
  },
  {
   "cell_type": "markdown",
   "source": [
    "Slicing in DataFrames.\n",
    "\n",
    "- dataframe[:n] refers to [0, n) rows\n",
    "- dataframe[n:] refers to [n, end) rows / all the rows from n to last.\n",
    "\n",
    "* TO get to specific row and column we use .iloc[] *"
   ],
   "metadata": {
    "collapsed": false
   }
  },
  {
   "cell_type": "code",
   "execution_count": 34,
   "outputs": [
    {
     "data": {
      "text/plain": "        city city_ascii      lat       lng      country iso2 iso3  \\\n0      Tokyo      Tokyo  35.6897  139.6922        Japan   JP  JPN   \n1    Jakarta    Jakarta  -6.1750  106.8275    Indonesia   ID  IDN   \n2      Delhi      Delhi  28.6100   77.2300        India   IN  IND   \n3  Guangzhou  Guangzhou  23.1300  113.2600        China   CN  CHN   \n4     Mumbai     Mumbai  19.0761   72.8775        India   IN  IND   \n5     Manila     Manila  14.5958  120.9772  Philippines   PH  PHL   \n6   Shanghai   Shanghai  31.1667  121.4667        China   CN  CHN   \n\n    admin_name  capital  population          id  \n0        Tōkyō  primary  37732000.0  1392685764  \n1      Jakarta  primary  33756000.0  1360771077  \n2        Delhi    admin  32226000.0  1356872604  \n3    Guangdong    admin  26940000.0  1156237133  \n4  Mahārāshtra    admin  24973000.0  1356226629  \n5       Manila  primary  24922000.0  1608618140  \n6     Shanghai    admin  24073000.0  1156073548  ",
      "text/html": "<div>\n<style scoped>\n    .dataframe tbody tr th:only-of-type {\n        vertical-align: middle;\n    }\n\n    .dataframe tbody tr th {\n        vertical-align: top;\n    }\n\n    .dataframe thead th {\n        text-align: right;\n    }\n</style>\n<table border=\"1\" class=\"dataframe\">\n  <thead>\n    <tr style=\"text-align: right;\">\n      <th></th>\n      <th>city</th>\n      <th>city_ascii</th>\n      <th>lat</th>\n      <th>lng</th>\n      <th>country</th>\n      <th>iso2</th>\n      <th>iso3</th>\n      <th>admin_name</th>\n      <th>capital</th>\n      <th>population</th>\n      <th>id</th>\n    </tr>\n  </thead>\n  <tbody>\n    <tr>\n      <th>0</th>\n      <td>Tokyo</td>\n      <td>Tokyo</td>\n      <td>35.6897</td>\n      <td>139.6922</td>\n      <td>Japan</td>\n      <td>JP</td>\n      <td>JPN</td>\n      <td>Tōkyō</td>\n      <td>primary</td>\n      <td>37732000.0</td>\n      <td>1392685764</td>\n    </tr>\n    <tr>\n      <th>1</th>\n      <td>Jakarta</td>\n      <td>Jakarta</td>\n      <td>-6.1750</td>\n      <td>106.8275</td>\n      <td>Indonesia</td>\n      <td>ID</td>\n      <td>IDN</td>\n      <td>Jakarta</td>\n      <td>primary</td>\n      <td>33756000.0</td>\n      <td>1360771077</td>\n    </tr>\n    <tr>\n      <th>2</th>\n      <td>Delhi</td>\n      <td>Delhi</td>\n      <td>28.6100</td>\n      <td>77.2300</td>\n      <td>India</td>\n      <td>IN</td>\n      <td>IND</td>\n      <td>Delhi</td>\n      <td>admin</td>\n      <td>32226000.0</td>\n      <td>1356872604</td>\n    </tr>\n    <tr>\n      <th>3</th>\n      <td>Guangzhou</td>\n      <td>Guangzhou</td>\n      <td>23.1300</td>\n      <td>113.2600</td>\n      <td>China</td>\n      <td>CN</td>\n      <td>CHN</td>\n      <td>Guangdong</td>\n      <td>admin</td>\n      <td>26940000.0</td>\n      <td>1156237133</td>\n    </tr>\n    <tr>\n      <th>4</th>\n      <td>Mumbai</td>\n      <td>Mumbai</td>\n      <td>19.0761</td>\n      <td>72.8775</td>\n      <td>India</td>\n      <td>IN</td>\n      <td>IND</td>\n      <td>Mahārāshtra</td>\n      <td>admin</td>\n      <td>24973000.0</td>\n      <td>1356226629</td>\n    </tr>\n    <tr>\n      <th>5</th>\n      <td>Manila</td>\n      <td>Manila</td>\n      <td>14.5958</td>\n      <td>120.9772</td>\n      <td>Philippines</td>\n      <td>PH</td>\n      <td>PHL</td>\n      <td>Manila</td>\n      <td>primary</td>\n      <td>24922000.0</td>\n      <td>1608618140</td>\n    </tr>\n    <tr>\n      <th>6</th>\n      <td>Shanghai</td>\n      <td>Shanghai</td>\n      <td>31.1667</td>\n      <td>121.4667</td>\n      <td>China</td>\n      <td>CN</td>\n      <td>CHN</td>\n      <td>Shanghai</td>\n      <td>admin</td>\n      <td>24073000.0</td>\n      <td>1156073548</td>\n    </tr>\n  </tbody>\n</table>\n</div>"
     },
     "execution_count": 34,
     "metadata": {},
     "output_type": "execute_result"
    }
   ],
   "source": [
    "city_data[:7]  # first 7 rows"
   ],
   "metadata": {
    "collapsed": false
   }
  },
  {
   "cell_type": "code",
   "execution_count": 35,
   "outputs": [
    {
     "data": {
      "text/plain": "        city city_ascii      lat\n0      Tokyo      Tokyo  35.6897\n1    Jakarta    Jakarta  -6.1750\n2      Delhi      Delhi  28.6100\n3  Guangzhou  Guangzhou  23.1300\n4     Mumbai     Mumbai  19.0761",
      "text/html": "<div>\n<style scoped>\n    .dataframe tbody tr th:only-of-type {\n        vertical-align: middle;\n    }\n\n    .dataframe tbody tr th {\n        vertical-align: top;\n    }\n\n    .dataframe thead th {\n        text-align: right;\n    }\n</style>\n<table border=\"1\" class=\"dataframe\">\n  <thead>\n    <tr style=\"text-align: right;\">\n      <th></th>\n      <th>city</th>\n      <th>city_ascii</th>\n      <th>lat</th>\n    </tr>\n  </thead>\n  <tbody>\n    <tr>\n      <th>0</th>\n      <td>Tokyo</td>\n      <td>Tokyo</td>\n      <td>35.6897</td>\n    </tr>\n    <tr>\n      <th>1</th>\n      <td>Jakarta</td>\n      <td>Jakarta</td>\n      <td>-6.1750</td>\n    </tr>\n    <tr>\n      <th>2</th>\n      <td>Delhi</td>\n      <td>Delhi</td>\n      <td>28.6100</td>\n    </tr>\n    <tr>\n      <th>3</th>\n      <td>Guangzhou</td>\n      <td>Guangzhou</td>\n      <td>23.1300</td>\n    </tr>\n    <tr>\n      <th>4</th>\n      <td>Mumbai</td>\n      <td>Mumbai</td>\n      <td>19.0761</td>\n    </tr>\n  </tbody>\n</table>\n</div>"
     },
     "execution_count": 35,
     "metadata": {},
     "output_type": "execute_result"
    }
   ],
   "source": [
    "city_data.iloc[:5, :3]"
   ],
   "metadata": {
    "collapsed": false
   }
  },
  {
   "cell_type": "markdown",
   "source": [
    "from 5-10 rows, give city, country and their iso3.\n",
    "here, I have created an array of attributes and passed as an argument where .loc's column are passed."
   ],
   "metadata": {
    "collapsed": false
   }
  },
  {
   "cell_type": "code",
   "execution_count": 39,
   "outputs": [
    {
     "data": {
      "text/plain": "           city      country iso3\n5        Manila  Philippines  PHL\n6      Shanghai        China  CHN\n7     São Paulo       Brazil  BRA\n8         Seoul  South Korea  KOR\n9   Mexico City       Mexico  MEX\n10        Cairo        Egypt  EGY",
      "text/html": "<div>\n<style scoped>\n    .dataframe tbody tr th:only-of-type {\n        vertical-align: middle;\n    }\n\n    .dataframe tbody tr th {\n        vertical-align: top;\n    }\n\n    .dataframe thead th {\n        text-align: right;\n    }\n</style>\n<table border=\"1\" class=\"dataframe\">\n  <thead>\n    <tr style=\"text-align: right;\">\n      <th></th>\n      <th>city</th>\n      <th>country</th>\n      <th>iso3</th>\n    </tr>\n  </thead>\n  <tbody>\n    <tr>\n      <th>5</th>\n      <td>Manila</td>\n      <td>Philippines</td>\n      <td>PHL</td>\n    </tr>\n    <tr>\n      <th>6</th>\n      <td>Shanghai</td>\n      <td>China</td>\n      <td>CHN</td>\n    </tr>\n    <tr>\n      <th>7</th>\n      <td>São Paulo</td>\n      <td>Brazil</td>\n      <td>BRA</td>\n    </tr>\n    <tr>\n      <th>8</th>\n      <td>Seoul</td>\n      <td>South Korea</td>\n      <td>KOR</td>\n    </tr>\n    <tr>\n      <th>9</th>\n      <td>Mexico City</td>\n      <td>Mexico</td>\n      <td>MEX</td>\n    </tr>\n    <tr>\n      <th>10</th>\n      <td>Cairo</td>\n      <td>Egypt</td>\n      <td>EGY</td>\n    </tr>\n  </tbody>\n</table>\n</div>"
     },
     "execution_count": 39,
     "metadata": {},
     "output_type": "execute_result"
    }
   ],
   "source": [
    "city_data.loc[5:10, ['city', 'country', 'iso3']]"
   ],
   "metadata": {
    "collapsed": false
   }
  },
  {
   "cell_type": "code",
   "execution_count": 38,
   "outputs": [
    {
     "data": {
      "text/plain": "           city   city_ascii      lat       lng      country\n5        Manila       Manila  14.5958  120.9772  Philippines\n6      Shanghai     Shanghai  31.1667  121.4667        China\n7     São Paulo    Sao Paulo -23.5500  -46.6333       Brazil\n8         Seoul        Seoul  37.5600  126.9900  South Korea\n9   Mexico City  Mexico City  19.4333  -99.1333       Mexico\n10        Cairo        Cairo  30.0444   31.2358        Egypt",
      "text/html": "<div>\n<style scoped>\n    .dataframe tbody tr th:only-of-type {\n        vertical-align: middle;\n    }\n\n    .dataframe tbody tr th {\n        vertical-align: top;\n    }\n\n    .dataframe thead th {\n        text-align: right;\n    }\n</style>\n<table border=\"1\" class=\"dataframe\">\n  <thead>\n    <tr style=\"text-align: right;\">\n      <th></th>\n      <th>city</th>\n      <th>city_ascii</th>\n      <th>lat</th>\n      <th>lng</th>\n      <th>country</th>\n    </tr>\n  </thead>\n  <tbody>\n    <tr>\n      <th>5</th>\n      <td>Manila</td>\n      <td>Manila</td>\n      <td>14.5958</td>\n      <td>120.9772</td>\n      <td>Philippines</td>\n    </tr>\n    <tr>\n      <th>6</th>\n      <td>Shanghai</td>\n      <td>Shanghai</td>\n      <td>31.1667</td>\n      <td>121.4667</td>\n      <td>China</td>\n    </tr>\n    <tr>\n      <th>7</th>\n      <td>São Paulo</td>\n      <td>Sao Paulo</td>\n      <td>-23.5500</td>\n      <td>-46.6333</td>\n      <td>Brazil</td>\n    </tr>\n    <tr>\n      <th>8</th>\n      <td>Seoul</td>\n      <td>Seoul</td>\n      <td>37.5600</td>\n      <td>126.9900</td>\n      <td>South Korea</td>\n    </tr>\n    <tr>\n      <th>9</th>\n      <td>Mexico City</td>\n      <td>Mexico City</td>\n      <td>19.4333</td>\n      <td>-99.1333</td>\n      <td>Mexico</td>\n    </tr>\n    <tr>\n      <th>10</th>\n      <td>Cairo</td>\n      <td>Cairo</td>\n      <td>30.0444</td>\n      <td>31.2358</td>\n      <td>Egypt</td>\n    </tr>\n  </tbody>\n</table>\n</div>"
     },
     "execution_count": 38,
     "metadata": {},
     "output_type": "execute_result"
    }
   ],
   "source": [
    "city_data.loc[5:10, 'city':'country']   # 5 se 10 tak row traversal and city se country tak column traversal."
   ],
   "metadata": {
    "collapsed": false
   }
  },
  {
   "cell_type": "markdown",
   "source": [
    "Boolean based indexing.\n",
    "it allows us to work with a specific set of rows and columns."
   ],
   "metadata": {
    "collapsed": false
   }
  },
  {
   "cell_type": "code",
   "execution_count": 45,
   "outputs": [
    {
     "data": {
      "text/plain": "                city        city_ascii      lat       lng        country iso2  \\\n0              Tokyo             Tokyo  35.6897  139.6922          Japan   JP   \n1            Jakarta           Jakarta  -6.1750  106.8275      Indonesia   ID   \n2              Delhi             Delhi  28.6100   77.2300          India   IN   \n3          Guangzhou         Guangzhou  23.1300  113.2600          China   CN   \n4             Mumbai            Mumbai  19.0761   72.8775          India   IN   \n5             Manila            Manila  14.5958  120.9772    Philippines   PH   \n6           Shanghai          Shanghai  31.1667  121.4667          China   CN   \n7          São Paulo         Sao Paulo -23.5500  -46.6333         Brazil   BR   \n8              Seoul             Seoul  37.5600  126.9900    South Korea   KR   \n9        Mexico City       Mexico City  19.4333  -99.1333         Mexico   MX   \n10             Cairo             Cairo  30.0444   31.2358          Egypt   EG   \n11          New York          New York  40.6943  -73.9249  United States   US   \n12             Dhaka             Dhaka  23.7639   90.3889     Bangladesh   BD   \n13           Beijing           Beijing  39.9040  116.4075          China   CN   \n14           Kolkāta           Kolkata  22.5675   88.3700          India   IN   \n15           Bangkok           Bangkok  13.7525  100.4942       Thailand   TH   \n16          Shenzhen          Shenzhen  22.5350  114.0540          China   CN   \n17            Moscow            Moscow  55.7558   37.6178         Russia   RU   \n18      Buenos Aires      Buenos Aires -34.5997  -58.3819      Argentina   AR   \n19             Lagos             Lagos   6.4550    3.3841        Nigeria   NG   \n20          Istanbul          Istanbul  41.0136   28.9550         Turkey   TR   \n21           Karachi           Karachi  24.8600   67.0100       Pakistan   PK   \n22         Bangalore         Bangalore  12.9789   77.5917          India   IN   \n23  Ho Chi Minh City  Ho Chi Minh City  10.7756  106.7019        Vietnam   VN   \n24             Ōsaka             Osaka  34.6939  135.5022          Japan   JP   \n25               NaN               NaN      NaN       NaN            NaN  NaN   \n26               NaN               NaN      NaN       NaN            NaN  NaN   \n27               NaN               NaN      NaN       NaN            NaN  NaN   \n28               NaN               NaN      NaN       NaN            NaN  NaN   \n29               NaN               NaN      NaN       NaN            NaN  NaN   \n30               NaN               NaN      NaN       NaN            NaN  NaN   \n31               NaN               NaN      NaN       NaN            NaN  NaN   \n32               NaN               NaN      NaN       NaN            NaN  NaN   \n33               NaN               NaN      NaN       NaN            NaN  NaN   \n34               NaN               NaN      NaN       NaN            NaN  NaN   \n35               NaN               NaN      NaN       NaN            NaN  NaN   \n36               NaN               NaN      NaN       NaN            NaN  NaN   \n37               NaN               NaN      NaN       NaN            NaN  NaN   \n38               NaN               NaN      NaN       NaN            NaN  NaN   \n39               NaN               NaN      NaN       NaN            NaN  NaN   \n40               NaN               NaN      NaN       NaN            NaN  NaN   \n41               NaN               NaN      NaN       NaN            NaN  NaN   \n42               NaN               NaN      NaN       NaN            NaN  NaN   \n43               NaN               NaN      NaN       NaN            NaN  NaN   \n\n   iso3                        admin_name  capital  population            id  \n0   JPN                             Tōkyō  primary  37732000.0  1.392686e+09  \n1   IDN                           Jakarta  primary  33756000.0  1.360771e+09  \n2   IND                             Delhi    admin  32226000.0  1.356873e+09  \n3   CHN                         Guangdong    admin  26940000.0  1.156237e+09  \n4   IND                       Mahārāshtra    admin  24973000.0  1.356227e+09  \n5   PHL                            Manila  primary  24922000.0  1.608618e+09  \n6   CHN                          Shanghai    admin  24073000.0  1.156074e+09  \n7   BRA                         São Paulo    admin  23086000.0  1.076533e+09  \n8   KOR                             Seoul  primary  23016000.0  1.410836e+09  \n9   MEX                  Ciudad de México  primary  21804000.0  1.484248e+09  \n10  EGY                        Al Qāhirah  primary  20296000.0  1.818254e+09  \n11  USA                          New York      NaN  18972871.0  1.840034e+09  \n12  BGD                             Dhaka  primary  18627000.0  1.050529e+09  \n13  CHN                           Beijing  primary  18522000.0  1.156229e+09  \n14  IND                       West Bengal    admin  18502000.0  1.356061e+09  \n15  THA            Krung Thep Maha Nakhon  primary  18007000.0  1.764069e+09  \n16  CHN                         Guangdong    minor  17619000.0  1.156159e+09  \n17  RUS                            Moskva  primary  17332000.0  1.643318e+09  \n18  ARG  Buenos Aires, Ciudad Autónoma de  primary  16710000.0  1.032717e+09  \n19  NGA                             Lagos    minor  16637000.0  1.566594e+09  \n20  TUR                          İstanbul    admin  16079000.0  1.792756e+09  \n21  PAK                             Sindh    admin  15738000.0  1.586129e+09  \n22  IND                         Karnātaka    admin  15386000.0  1.356410e+09  \n23  VNM                       Hồ Chí Minh    admin  15136000.0  1.704774e+09  \n24  JPN                             Ōsaka    admin  15126000.0  1.392420e+09  \n25  NaN                               NaN      NaN         NaN           NaN  \n26  NaN                               NaN      NaN         NaN           NaN  \n27  NaN                               NaN      NaN         NaN           NaN  \n28  NaN                               NaN      NaN         NaN           NaN  \n29  NaN                               NaN      NaN         NaN           NaN  \n30  NaN                               NaN      NaN         NaN           NaN  \n31  NaN                               NaN      NaN         NaN           NaN  \n32  NaN                               NaN      NaN         NaN           NaN  \n33  NaN                               NaN      NaN         NaN           NaN  \n34  NaN                               NaN      NaN         NaN           NaN  \n35  NaN                               NaN      NaN         NaN           NaN  \n36  NaN                               NaN      NaN         NaN           NaN  \n37  NaN                               NaN      NaN         NaN           NaN  \n38  NaN                               NaN      NaN         NaN           NaN  \n39  NaN                               NaN      NaN         NaN           NaN  \n40  NaN                               NaN      NaN         NaN           NaN  \n41  NaN                               NaN      NaN         NaN           NaN  \n42  NaN                               NaN      NaN         NaN           NaN  \n43  NaN                               NaN      NaN         NaN           NaN  ",
      "text/html": "<div>\n<style scoped>\n    .dataframe tbody tr th:only-of-type {\n        vertical-align: middle;\n    }\n\n    .dataframe tbody tr th {\n        vertical-align: top;\n    }\n\n    .dataframe thead th {\n        text-align: right;\n    }\n</style>\n<table border=\"1\" class=\"dataframe\">\n  <thead>\n    <tr style=\"text-align: right;\">\n      <th></th>\n      <th>city</th>\n      <th>city_ascii</th>\n      <th>lat</th>\n      <th>lng</th>\n      <th>country</th>\n      <th>iso2</th>\n      <th>iso3</th>\n      <th>admin_name</th>\n      <th>capital</th>\n      <th>population</th>\n      <th>id</th>\n    </tr>\n  </thead>\n  <tbody>\n    <tr>\n      <th>0</th>\n      <td>Tokyo</td>\n      <td>Tokyo</td>\n      <td>35.6897</td>\n      <td>139.6922</td>\n      <td>Japan</td>\n      <td>JP</td>\n      <td>JPN</td>\n      <td>Tōkyō</td>\n      <td>primary</td>\n      <td>37732000.0</td>\n      <td>1.392686e+09</td>\n    </tr>\n    <tr>\n      <th>1</th>\n      <td>Jakarta</td>\n      <td>Jakarta</td>\n      <td>-6.1750</td>\n      <td>106.8275</td>\n      <td>Indonesia</td>\n      <td>ID</td>\n      <td>IDN</td>\n      <td>Jakarta</td>\n      <td>primary</td>\n      <td>33756000.0</td>\n      <td>1.360771e+09</td>\n    </tr>\n    <tr>\n      <th>2</th>\n      <td>Delhi</td>\n      <td>Delhi</td>\n      <td>28.6100</td>\n      <td>77.2300</td>\n      <td>India</td>\n      <td>IN</td>\n      <td>IND</td>\n      <td>Delhi</td>\n      <td>admin</td>\n      <td>32226000.0</td>\n      <td>1.356873e+09</td>\n    </tr>\n    <tr>\n      <th>3</th>\n      <td>Guangzhou</td>\n      <td>Guangzhou</td>\n      <td>23.1300</td>\n      <td>113.2600</td>\n      <td>China</td>\n      <td>CN</td>\n      <td>CHN</td>\n      <td>Guangdong</td>\n      <td>admin</td>\n      <td>26940000.0</td>\n      <td>1.156237e+09</td>\n    </tr>\n    <tr>\n      <th>4</th>\n      <td>Mumbai</td>\n      <td>Mumbai</td>\n      <td>19.0761</td>\n      <td>72.8775</td>\n      <td>India</td>\n      <td>IN</td>\n      <td>IND</td>\n      <td>Mahārāshtra</td>\n      <td>admin</td>\n      <td>24973000.0</td>\n      <td>1.356227e+09</td>\n    </tr>\n    <tr>\n      <th>5</th>\n      <td>Manila</td>\n      <td>Manila</td>\n      <td>14.5958</td>\n      <td>120.9772</td>\n      <td>Philippines</td>\n      <td>PH</td>\n      <td>PHL</td>\n      <td>Manila</td>\n      <td>primary</td>\n      <td>24922000.0</td>\n      <td>1.608618e+09</td>\n    </tr>\n    <tr>\n      <th>6</th>\n      <td>Shanghai</td>\n      <td>Shanghai</td>\n      <td>31.1667</td>\n      <td>121.4667</td>\n      <td>China</td>\n      <td>CN</td>\n      <td>CHN</td>\n      <td>Shanghai</td>\n      <td>admin</td>\n      <td>24073000.0</td>\n      <td>1.156074e+09</td>\n    </tr>\n    <tr>\n      <th>7</th>\n      <td>São Paulo</td>\n      <td>Sao Paulo</td>\n      <td>-23.5500</td>\n      <td>-46.6333</td>\n      <td>Brazil</td>\n      <td>BR</td>\n      <td>BRA</td>\n      <td>São Paulo</td>\n      <td>admin</td>\n      <td>23086000.0</td>\n      <td>1.076533e+09</td>\n    </tr>\n    <tr>\n      <th>8</th>\n      <td>Seoul</td>\n      <td>Seoul</td>\n      <td>37.5600</td>\n      <td>126.9900</td>\n      <td>South Korea</td>\n      <td>KR</td>\n      <td>KOR</td>\n      <td>Seoul</td>\n      <td>primary</td>\n      <td>23016000.0</td>\n      <td>1.410836e+09</td>\n    </tr>\n    <tr>\n      <th>9</th>\n      <td>Mexico City</td>\n      <td>Mexico City</td>\n      <td>19.4333</td>\n      <td>-99.1333</td>\n      <td>Mexico</td>\n      <td>MX</td>\n      <td>MEX</td>\n      <td>Ciudad de México</td>\n      <td>primary</td>\n      <td>21804000.0</td>\n      <td>1.484248e+09</td>\n    </tr>\n    <tr>\n      <th>10</th>\n      <td>Cairo</td>\n      <td>Cairo</td>\n      <td>30.0444</td>\n      <td>31.2358</td>\n      <td>Egypt</td>\n      <td>EG</td>\n      <td>EGY</td>\n      <td>Al Qāhirah</td>\n      <td>primary</td>\n      <td>20296000.0</td>\n      <td>1.818254e+09</td>\n    </tr>\n    <tr>\n      <th>11</th>\n      <td>New York</td>\n      <td>New York</td>\n      <td>40.6943</td>\n      <td>-73.9249</td>\n      <td>United States</td>\n      <td>US</td>\n      <td>USA</td>\n      <td>New York</td>\n      <td>NaN</td>\n      <td>18972871.0</td>\n      <td>1.840034e+09</td>\n    </tr>\n    <tr>\n      <th>12</th>\n      <td>Dhaka</td>\n      <td>Dhaka</td>\n      <td>23.7639</td>\n      <td>90.3889</td>\n      <td>Bangladesh</td>\n      <td>BD</td>\n      <td>BGD</td>\n      <td>Dhaka</td>\n      <td>primary</td>\n      <td>18627000.0</td>\n      <td>1.050529e+09</td>\n    </tr>\n    <tr>\n      <th>13</th>\n      <td>Beijing</td>\n      <td>Beijing</td>\n      <td>39.9040</td>\n      <td>116.4075</td>\n      <td>China</td>\n      <td>CN</td>\n      <td>CHN</td>\n      <td>Beijing</td>\n      <td>primary</td>\n      <td>18522000.0</td>\n      <td>1.156229e+09</td>\n    </tr>\n    <tr>\n      <th>14</th>\n      <td>Kolkāta</td>\n      <td>Kolkata</td>\n      <td>22.5675</td>\n      <td>88.3700</td>\n      <td>India</td>\n      <td>IN</td>\n      <td>IND</td>\n      <td>West Bengal</td>\n      <td>admin</td>\n      <td>18502000.0</td>\n      <td>1.356061e+09</td>\n    </tr>\n    <tr>\n      <th>15</th>\n      <td>Bangkok</td>\n      <td>Bangkok</td>\n      <td>13.7525</td>\n      <td>100.4942</td>\n      <td>Thailand</td>\n      <td>TH</td>\n      <td>THA</td>\n      <td>Krung Thep Maha Nakhon</td>\n      <td>primary</td>\n      <td>18007000.0</td>\n      <td>1.764069e+09</td>\n    </tr>\n    <tr>\n      <th>16</th>\n      <td>Shenzhen</td>\n      <td>Shenzhen</td>\n      <td>22.5350</td>\n      <td>114.0540</td>\n      <td>China</td>\n      <td>CN</td>\n      <td>CHN</td>\n      <td>Guangdong</td>\n      <td>minor</td>\n      <td>17619000.0</td>\n      <td>1.156159e+09</td>\n    </tr>\n    <tr>\n      <th>17</th>\n      <td>Moscow</td>\n      <td>Moscow</td>\n      <td>55.7558</td>\n      <td>37.6178</td>\n      <td>Russia</td>\n      <td>RU</td>\n      <td>RUS</td>\n      <td>Moskva</td>\n      <td>primary</td>\n      <td>17332000.0</td>\n      <td>1.643318e+09</td>\n    </tr>\n    <tr>\n      <th>18</th>\n      <td>Buenos Aires</td>\n      <td>Buenos Aires</td>\n      <td>-34.5997</td>\n      <td>-58.3819</td>\n      <td>Argentina</td>\n      <td>AR</td>\n      <td>ARG</td>\n      <td>Buenos Aires, Ciudad Autónoma de</td>\n      <td>primary</td>\n      <td>16710000.0</td>\n      <td>1.032717e+09</td>\n    </tr>\n    <tr>\n      <th>19</th>\n      <td>Lagos</td>\n      <td>Lagos</td>\n      <td>6.4550</td>\n      <td>3.3841</td>\n      <td>Nigeria</td>\n      <td>NG</td>\n      <td>NGA</td>\n      <td>Lagos</td>\n      <td>minor</td>\n      <td>16637000.0</td>\n      <td>1.566594e+09</td>\n    </tr>\n    <tr>\n      <th>20</th>\n      <td>Istanbul</td>\n      <td>Istanbul</td>\n      <td>41.0136</td>\n      <td>28.9550</td>\n      <td>Turkey</td>\n      <td>TR</td>\n      <td>TUR</td>\n      <td>İstanbul</td>\n      <td>admin</td>\n      <td>16079000.0</td>\n      <td>1.792756e+09</td>\n    </tr>\n    <tr>\n      <th>21</th>\n      <td>Karachi</td>\n      <td>Karachi</td>\n      <td>24.8600</td>\n      <td>67.0100</td>\n      <td>Pakistan</td>\n      <td>PK</td>\n      <td>PAK</td>\n      <td>Sindh</td>\n      <td>admin</td>\n      <td>15738000.0</td>\n      <td>1.586129e+09</td>\n    </tr>\n    <tr>\n      <th>22</th>\n      <td>Bangalore</td>\n      <td>Bangalore</td>\n      <td>12.9789</td>\n      <td>77.5917</td>\n      <td>India</td>\n      <td>IN</td>\n      <td>IND</td>\n      <td>Karnātaka</td>\n      <td>admin</td>\n      <td>15386000.0</td>\n      <td>1.356410e+09</td>\n    </tr>\n    <tr>\n      <th>23</th>\n      <td>Ho Chi Minh City</td>\n      <td>Ho Chi Minh City</td>\n      <td>10.7756</td>\n      <td>106.7019</td>\n      <td>Vietnam</td>\n      <td>VN</td>\n      <td>VNM</td>\n      <td>Hồ Chí Minh</td>\n      <td>admin</td>\n      <td>15136000.0</td>\n      <td>1.704774e+09</td>\n    </tr>\n    <tr>\n      <th>24</th>\n      <td>Ōsaka</td>\n      <td>Osaka</td>\n      <td>34.6939</td>\n      <td>135.5022</td>\n      <td>Japan</td>\n      <td>JP</td>\n      <td>JPN</td>\n      <td>Ōsaka</td>\n      <td>admin</td>\n      <td>15126000.0</td>\n      <td>1.392420e+09</td>\n    </tr>\n    <tr>\n      <th>25</th>\n      <td>NaN</td>\n      <td>NaN</td>\n      <td>NaN</td>\n      <td>NaN</td>\n      <td>NaN</td>\n      <td>NaN</td>\n      <td>NaN</td>\n      <td>NaN</td>\n      <td>NaN</td>\n      <td>NaN</td>\n      <td>NaN</td>\n    </tr>\n    <tr>\n      <th>26</th>\n      <td>NaN</td>\n      <td>NaN</td>\n      <td>NaN</td>\n      <td>NaN</td>\n      <td>NaN</td>\n      <td>NaN</td>\n      <td>NaN</td>\n      <td>NaN</td>\n      <td>NaN</td>\n      <td>NaN</td>\n      <td>NaN</td>\n    </tr>\n    <tr>\n      <th>27</th>\n      <td>NaN</td>\n      <td>NaN</td>\n      <td>NaN</td>\n      <td>NaN</td>\n      <td>NaN</td>\n      <td>NaN</td>\n      <td>NaN</td>\n      <td>NaN</td>\n      <td>NaN</td>\n      <td>NaN</td>\n      <td>NaN</td>\n    </tr>\n    <tr>\n      <th>28</th>\n      <td>NaN</td>\n      <td>NaN</td>\n      <td>NaN</td>\n      <td>NaN</td>\n      <td>NaN</td>\n      <td>NaN</td>\n      <td>NaN</td>\n      <td>NaN</td>\n      <td>NaN</td>\n      <td>NaN</td>\n      <td>NaN</td>\n    </tr>\n    <tr>\n      <th>29</th>\n      <td>NaN</td>\n      <td>NaN</td>\n      <td>NaN</td>\n      <td>NaN</td>\n      <td>NaN</td>\n      <td>NaN</td>\n      <td>NaN</td>\n      <td>NaN</td>\n      <td>NaN</td>\n      <td>NaN</td>\n      <td>NaN</td>\n    </tr>\n    <tr>\n      <th>30</th>\n      <td>NaN</td>\n      <td>NaN</td>\n      <td>NaN</td>\n      <td>NaN</td>\n      <td>NaN</td>\n      <td>NaN</td>\n      <td>NaN</td>\n      <td>NaN</td>\n      <td>NaN</td>\n      <td>NaN</td>\n      <td>NaN</td>\n    </tr>\n    <tr>\n      <th>31</th>\n      <td>NaN</td>\n      <td>NaN</td>\n      <td>NaN</td>\n      <td>NaN</td>\n      <td>NaN</td>\n      <td>NaN</td>\n      <td>NaN</td>\n      <td>NaN</td>\n      <td>NaN</td>\n      <td>NaN</td>\n      <td>NaN</td>\n    </tr>\n    <tr>\n      <th>32</th>\n      <td>NaN</td>\n      <td>NaN</td>\n      <td>NaN</td>\n      <td>NaN</td>\n      <td>NaN</td>\n      <td>NaN</td>\n      <td>NaN</td>\n      <td>NaN</td>\n      <td>NaN</td>\n      <td>NaN</td>\n      <td>NaN</td>\n    </tr>\n    <tr>\n      <th>33</th>\n      <td>NaN</td>\n      <td>NaN</td>\n      <td>NaN</td>\n      <td>NaN</td>\n      <td>NaN</td>\n      <td>NaN</td>\n      <td>NaN</td>\n      <td>NaN</td>\n      <td>NaN</td>\n      <td>NaN</td>\n      <td>NaN</td>\n    </tr>\n    <tr>\n      <th>34</th>\n      <td>NaN</td>\n      <td>NaN</td>\n      <td>NaN</td>\n      <td>NaN</td>\n      <td>NaN</td>\n      <td>NaN</td>\n      <td>NaN</td>\n      <td>NaN</td>\n      <td>NaN</td>\n      <td>NaN</td>\n      <td>NaN</td>\n    </tr>\n    <tr>\n      <th>35</th>\n      <td>NaN</td>\n      <td>NaN</td>\n      <td>NaN</td>\n      <td>NaN</td>\n      <td>NaN</td>\n      <td>NaN</td>\n      <td>NaN</td>\n      <td>NaN</td>\n      <td>NaN</td>\n      <td>NaN</td>\n      <td>NaN</td>\n    </tr>\n    <tr>\n      <th>36</th>\n      <td>NaN</td>\n      <td>NaN</td>\n      <td>NaN</td>\n      <td>NaN</td>\n      <td>NaN</td>\n      <td>NaN</td>\n      <td>NaN</td>\n      <td>NaN</td>\n      <td>NaN</td>\n      <td>NaN</td>\n      <td>NaN</td>\n    </tr>\n    <tr>\n      <th>37</th>\n      <td>NaN</td>\n      <td>NaN</td>\n      <td>NaN</td>\n      <td>NaN</td>\n      <td>NaN</td>\n      <td>NaN</td>\n      <td>NaN</td>\n      <td>NaN</td>\n      <td>NaN</td>\n      <td>NaN</td>\n      <td>NaN</td>\n    </tr>\n    <tr>\n      <th>38</th>\n      <td>NaN</td>\n      <td>NaN</td>\n      <td>NaN</td>\n      <td>NaN</td>\n      <td>NaN</td>\n      <td>NaN</td>\n      <td>NaN</td>\n      <td>NaN</td>\n      <td>NaN</td>\n      <td>NaN</td>\n      <td>NaN</td>\n    </tr>\n    <tr>\n      <th>39</th>\n      <td>NaN</td>\n      <td>NaN</td>\n      <td>NaN</td>\n      <td>NaN</td>\n      <td>NaN</td>\n      <td>NaN</td>\n      <td>NaN</td>\n      <td>NaN</td>\n      <td>NaN</td>\n      <td>NaN</td>\n      <td>NaN</td>\n    </tr>\n    <tr>\n      <th>40</th>\n      <td>NaN</td>\n      <td>NaN</td>\n      <td>NaN</td>\n      <td>NaN</td>\n      <td>NaN</td>\n      <td>NaN</td>\n      <td>NaN</td>\n      <td>NaN</td>\n      <td>NaN</td>\n      <td>NaN</td>\n      <td>NaN</td>\n    </tr>\n    <tr>\n      <th>41</th>\n      <td>NaN</td>\n      <td>NaN</td>\n      <td>NaN</td>\n      <td>NaN</td>\n      <td>NaN</td>\n      <td>NaN</td>\n      <td>NaN</td>\n      <td>NaN</td>\n      <td>NaN</td>\n      <td>NaN</td>\n      <td>NaN</td>\n    </tr>\n    <tr>\n      <th>42</th>\n      <td>NaN</td>\n      <td>NaN</td>\n      <td>NaN</td>\n      <td>NaN</td>\n      <td>NaN</td>\n      <td>NaN</td>\n      <td>NaN</td>\n      <td>NaN</td>\n      <td>NaN</td>\n      <td>NaN</td>\n      <td>NaN</td>\n    </tr>\n    <tr>\n      <th>43</th>\n      <td>NaN</td>\n      <td>NaN</td>\n      <td>NaN</td>\n      <td>NaN</td>\n      <td>NaN</td>\n      <td>NaN</td>\n      <td>NaN</td>\n      <td>NaN</td>\n      <td>NaN</td>\n      <td>NaN</td>\n      <td>NaN</td>\n    </tr>\n  </tbody>\n</table>\n</div>"
     },
     "execution_count": 45,
     "metadata": {},
     "output_type": "execute_result"
    }
   ],
   "source": [
    "# city_data where city_data's population is > 10 million.\n",
    "city_data_greater_10mil = city_data[city_data['population']>10000000]\n",
    "\n",
    "# show me city_data > 10m where its population is > 15m\n",
    "city_data_greater_10mil.where(city_data_greater_10mil.population>15000000)"
   ],
   "metadata": {
    "collapsed": false
   }
  },
  {
   "cell_type": "markdown",
   "source": [
    "** Data Operations **"
   ],
   "metadata": {
    "collapsed": false
   }
  },
  {
   "cell_type": "code",
   "execution_count": 52,
   "outputs": [
    {
     "data": {
      "text/plain": "numpy.ndarray"
     },
     "execution_count": 52,
     "metadata": {},
     "output_type": "execute_result"
    }
   ],
   "source": [
    "import numpy as np\n",
    "# create a dataframe of [random 2d array of 8 rows, 3 columns where column names are (a, b. c)]\n",
    "my_dataframe = pd.DataFrame(np.random.randn(8, 3),  columns=['A', 'B', 'C'])\n",
    "\n",
    "# Values will create numpy ndarray from the dataframe by using *values* attribute.\n",
    "np_array = my_dataframe.values\n",
    "type(np_array)"
   ],
   "metadata": {
    "collapsed": false
   }
  },
  {
   "cell_type": "markdown",
   "source": [
    "Missing Data and fillna function"
   ],
   "metadata": {
    "collapsed": false
   }
  },
  {
   "cell_type": "code",
   "execution_count": 59,
   "outputs": [
    {
     "data": {
      "text/plain": "          A         B         C\n0  0.373341  0.846170 -0.434318\n1 -0.321547  0.205293 -1.131174\n2  0.993356 -0.605969  0.025298\n3  0.352819  1.466505       NaN\n4  0.641741 -0.061802 -0.360992\n5 -0.591186 -0.378005  1.184616\n6 -0.098216 -0.358609  0.212510\n7  0.150560 -0.078745  0.436593",
      "text/html": "<div>\n<style scoped>\n    .dataframe tbody tr th:only-of-type {\n        vertical-align: middle;\n    }\n\n    .dataframe tbody tr th {\n        vertical-align: top;\n    }\n\n    .dataframe thead th {\n        text-align: right;\n    }\n</style>\n<table border=\"1\" class=\"dataframe\">\n  <thead>\n    <tr style=\"text-align: right;\">\n      <th></th>\n      <th>A</th>\n      <th>B</th>\n      <th>C</th>\n    </tr>\n  </thead>\n  <tbody>\n    <tr>\n      <th>0</th>\n      <td>0.373341</td>\n      <td>0.846170</td>\n      <td>-0.434318</td>\n    </tr>\n    <tr>\n      <th>1</th>\n      <td>-0.321547</td>\n      <td>0.205293</td>\n      <td>-1.131174</td>\n    </tr>\n    <tr>\n      <th>2</th>\n      <td>0.993356</td>\n      <td>-0.605969</td>\n      <td>0.025298</td>\n    </tr>\n    <tr>\n      <th>3</th>\n      <td>0.352819</td>\n      <td>1.466505</td>\n      <td>NaN</td>\n    </tr>\n    <tr>\n      <th>4</th>\n      <td>0.641741</td>\n      <td>-0.061802</td>\n      <td>-0.360992</td>\n    </tr>\n    <tr>\n      <th>5</th>\n      <td>-0.591186</td>\n      <td>-0.378005</td>\n      <td>1.184616</td>\n    </tr>\n    <tr>\n      <th>6</th>\n      <td>-0.098216</td>\n      <td>-0.358609</td>\n      <td>0.212510</td>\n    </tr>\n    <tr>\n      <th>7</th>\n      <td>0.150560</td>\n      <td>-0.078745</td>\n      <td>0.436593</td>\n    </tr>\n  </tbody>\n</table>\n</div>"
     },
     "execution_count": 59,
     "metadata": {},
     "output_type": "execute_result"
    }
   ],
   "source": [
    "# let's first put a NA value in the dataset.\n",
    "my_dataframe.iloc[3, 2] = None\n",
    "my_dataframe"
   ],
   "metadata": {
    "collapsed": false
   }
  },
  {
   "cell_type": "code",
   "execution_count": 64,
   "outputs": [
    {
     "data": {
      "text/plain": "          A         B         C\n0  0.373341  0.846170 -0.434318\n1 -0.321547  0.205293 -1.131174\n2  0.993356 -0.605969  0.025298\n3  0.352819  1.466505  0.000000\n4  0.641741 -0.061802 -0.360992\n5 -0.591186 -0.378005  1.184616\n6 -0.098216 -0.358609  0.212510\n7  0.150560 -0.078745  0.436593",
      "text/html": "<div>\n<style scoped>\n    .dataframe tbody tr th:only-of-type {\n        vertical-align: middle;\n    }\n\n    .dataframe tbody tr th {\n        vertical-align: top;\n    }\n\n    .dataframe thead th {\n        text-align: right;\n    }\n</style>\n<table border=\"1\" class=\"dataframe\">\n  <thead>\n    <tr style=\"text-align: right;\">\n      <th></th>\n      <th>A</th>\n      <th>B</th>\n      <th>C</th>\n    </tr>\n  </thead>\n  <tbody>\n    <tr>\n      <th>0</th>\n      <td>0.373341</td>\n      <td>0.846170</td>\n      <td>-0.434318</td>\n    </tr>\n    <tr>\n      <th>1</th>\n      <td>-0.321547</td>\n      <td>0.205293</td>\n      <td>-1.131174</td>\n    </tr>\n    <tr>\n      <th>2</th>\n      <td>0.993356</td>\n      <td>-0.605969</td>\n      <td>0.025298</td>\n    </tr>\n    <tr>\n      <th>3</th>\n      <td>0.352819</td>\n      <td>1.466505</td>\n      <td>0.000000</td>\n    </tr>\n    <tr>\n      <th>4</th>\n      <td>0.641741</td>\n      <td>-0.061802</td>\n      <td>-0.360992</td>\n    </tr>\n    <tr>\n      <th>5</th>\n      <td>-0.591186</td>\n      <td>-0.378005</td>\n      <td>1.184616</td>\n    </tr>\n    <tr>\n      <th>6</th>\n      <td>-0.098216</td>\n      <td>-0.358609</td>\n      <td>0.212510</td>\n    </tr>\n    <tr>\n      <th>7</th>\n      <td>0.150560</td>\n      <td>-0.078745</td>\n      <td>0.436593</td>\n    </tr>\n  </tbody>\n</table>\n</div>"
     },
     "execution_count": 64,
     "metadata": {},
     "output_type": "execute_result"
    }
   ],
   "source": [
    "# Now, we will use fillna function to fill na/None/null values.\n",
    "# we will substitute 0 in place of missing values.\n",
    "my_dataframe.fillna(0, inplace = True) # inplace = true means don't return a new df, just do it there.\n",
    "my_dataframe"
   ],
   "metadata": {
    "collapsed": false
   }
  },
  {
   "cell_type": "code",
   "execution_count": null,
   "outputs": [],
   "source": [],
   "metadata": {
    "collapsed": false
   }
  }
 ],
 "metadata": {
  "kernelspec": {
   "display_name": "Python 3",
   "language": "python",
   "name": "python3"
  },
  "language_info": {
   "codemirror_mode": {
    "name": "ipython",
    "version": 2
   },
   "file_extension": ".py",
   "mimetype": "text/x-python",
   "name": "python",
   "nbconvert_exporter": "python",
   "pygments_lexer": "ipython2",
   "version": "2.7.6"
  }
 },
 "nbformat": 4,
 "nbformat_minor": 0
}
