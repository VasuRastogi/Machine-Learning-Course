{
 "cells": [
  {
   "cell_type": "code",
   "execution_count": 7,
   "id": "53d094a5",
   "metadata": {},
   "outputs": [],
   "source": [
    "import numpy as np\n",
    "arr = np.array([1, 2, 3, 4, 5, 6, 7, 8])"
   ]
  },
  {
   "cell_type": "code",
   "execution_count": 8,
   "id": "13c6c790",
   "metadata": {
    "scrolled": true
   },
   "outputs": [],
   "source": [
    "# make an identity matrix of length n\n",
    "arrIdentity = np.identity(2)\n",
    "\n",
    "# make a matrix of zeroes or ones\n",
    "arrZeros = np.zeros((2, 2))\n",
    "arrOnes = np.ones((3, 2))\n",
    "\n",
    "# create a matrix of random numbers\n",
    "arrRandom = np.random.randn(2, 2)\n",
    "arrIdentity.shape\n",
    "\n",
    "# make a new array with range [0, 9) having shape (3, 3) \n",
    "# make sure that m X n = no. of elements in the array, i.e. 9 in this case.\n",
    "arrReshape = np.arange(50).reshape(5, 10)\n"
   ]
  },
  {
   "cell_type": "code",
   "execution_count": 9,
   "id": "6607f63a",
   "metadata": {},
   "outputs": [
    {
     "data": {
      "text/plain": "array([0.68366808])"
     },
     "execution_count": 9,
     "metadata": {},
     "output_type": "execute_result"
    }
   ],
   "source": [
    "# Integer based Advanced indexing\n",
    "arrIntIndexing = np.arange(9).reshape(3, 3)     # make an array of 3X3 having integers [0,9).\n",
    "arrIntIndexing[[0, 1, 2], [1, 0, 0]]         # from 0,1,2 rows give respective 1,0,0 columns i.e.((0,1), (1, 0), (2, 0))\n",
    "\n",
    "# Boolean based Advanced indexing\n",
    "arrBooleanIndexing = np.random.randn(2,2)\n",
    "arrBooleanIndexing[arrBooleanIndexing > 0]      # Shows only the integers that are greater than 0."
   ]
  },
  {
   "cell_type": "code",
   "execution_count": 10,
   "id": "63f57e1f",
   "metadata": {},
   "outputs": [
    {
     "data": {
      "text/plain": "(array([[-0.21483724,  0.88723069,  0.40824829],\n        [-0.52058739,  0.24964395, -0.81649658],\n        [-0.82633754, -0.38794278,  0.40824829]]),\n array([1.68481034e+01, 1.06836951e+00, 3.33475287e-16]),\n array([[-0.47967118, -0.57236779, -0.66506441],\n        [-0.77669099, -0.07568647,  0.62531805],\n        [-0.40824829,  0.81649658, -0.40824829]]))"
     },
     "execution_count": 10,
     "metadata": {},
     "output_type": "execute_result"
    }
   ],
   "source": [
    "# Algebraic operations on the arrays (performed by Ufuncs)\n",
    "arr1 = np.arange(15).reshape(5,3)\n",
    "arr2 = np.arange(5).reshape(5,1)\n",
    "arr1*arr2\n",
    "\n",
    "# dot, transpose, svd\n",
    "a = np.array([[1, 2, 3], [4, 5, 6], [7, 8, 9]])\n",
    "b = np.array([[9, 8, 7], [6, 5, 4], [3, 2, 1]])\n",
    "\n",
    "a.dot(b)\n",
    "a.T\n",
    "np.linalg.svd(a)"
   ]
  },
  {
   "cell_type": "code",
   "execution_count": 14,
   "id": "540e4946",
   "metadata": {},
   "outputs": [
    {
     "data": {
      "text/plain": "array([1., 3., 2.])"
     },
     "execution_count": 14,
     "metadata": {},
     "output_type": "execute_result"
    }
   ],
   "source": [
    "# we can solve system of equations using linalg.solve()\n",
    "# eg.\n",
    "# 7x+5y-3z = 16\n",
    "# 3x-5y+2z = -8\n",
    "# 5x+3y-7z = 0\n",
    "\n",
    "# can be solved using 2 matrices : a and b\n",
    "# a = coefficient Matrix\n",
    "# b = constant vector matrix\n",
    "\n",
    "a = np.array([[7, 5, -3], [3, -5, 2], [5, 3, -7]])\n",
    "b = np.array([16, -8, 0])\n",
    "x = np.linalg.solve(a, b)\n",
    "x"
   ]
  },
  {
   "cell_type": "code",
   "execution_count": 17,
   "outputs": [
    {
     "data": {
      "text/plain": "True"
     },
     "execution_count": 17,
     "metadata": {},
     "output_type": "execute_result"
    }
   ],
   "source": [
    "# np.allclose(a, b) checks if a and b are equal element wise.\n",
    "np.allclose(np.dot(a, x), b)"
   ],
   "metadata": {
    "collapsed": false
   }
  }
 ],
 "metadata": {
  "kernelspec": {
   "display_name": "Python 3 (ipykernel)",
   "language": "python",
   "name": "python3"
  },
  "language_info": {
   "codemirror_mode": {
    "name": "ipython",
    "version": 3
   },
   "file_extension": ".py",
   "mimetype": "text/x-python",
   "name": "python",
   "nbconvert_exporter": "python",
   "pygments_lexer": "ipython3",
   "version": "3.10.9"
  }
 },
 "nbformat": 4,
 "nbformat_minor": 5
}
