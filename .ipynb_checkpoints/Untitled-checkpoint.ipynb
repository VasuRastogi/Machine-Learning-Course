{
 "cells": [
  {
   "cell_type": "code",
   "execution_count": 2,
   "id": "53d094a5",
   "metadata": {},
   "outputs": [],
   "source": [
    "import numpy as np\n",
    "arr = np.array([1, 2, 3, 4, 5, 6, 7, 8])"
   ]
  },
  {
   "cell_type": "code",
   "execution_count": 35,
   "id": "13c6c790",
   "metadata": {},
   "outputs": [
    {
     "data": {
      "text/plain": [
       "array([[ 0,  1,  2,  3,  4,  5,  6,  7,  8,  9],\n",
       "       [10, 11, 12, 13, 14, 15, 16, 17, 18, 19],\n",
       "       [20, 21, 22, 23, 24, 25, 26, 27, 28, 29],\n",
       "       [30, 31, 32, 33, 34, 35, 36, 37, 38, 39],\n",
       "       [40, 41, 42, 43, 44, 45, 46, 47, 48, 49]])"
      ]
     },
     "execution_count": 35,
     "metadata": {},
     "output_type": "execute_result"
    }
   ],
   "source": [
    "# make an identity matrix of length n\n",
    "arrIdentity = np.identity(2)\n",
    "\n",
    "# make a matrix of zeroes or ones\n",
    "arrZeros = np.zeros((2, 2))\n",
    "arrOnes = np.ones((3, 2))\n",
    "\n",
    "# create a matrix of random numbers\n",
    "arrRandom = np.random.randn(2, 2)\n",
    "arrIdentity.shape\n",
    "\n",
    "# make a new array with range [0, 9) having shape (3, 3) \n",
    "# make sure that m X n = no. of elements in the array, i.e. 9 in this case.\n",
    "arrReshape = np.arange(50).reshape(5, 10)\n",
    "\n",
    "# Integer based Advanced indexing\n",
    "arrIntIndexing = np.arange(9).reshape(3, 3)     # make an array of 3X3 having integers [0,9).\n",
    "arrIntIndexing[[0, 1, 2], [1, 0, 0]]         # from 0,1,2 rows give respective 1,0,0 columns i.e.((0,1), (1, 0), (2, 0))\n"
   ]
  }
 ],
 "metadata": {
  "kernelspec": {
   "display_name": "Python 3 (ipykernel)",
   "language": "python",
   "name": "python3"
  },
  "language_info": {
   "codemirror_mode": {
    "name": "ipython",
    "version": 3
   },
   "file_extension": ".py",
   "mimetype": "text/x-python",
   "name": "python",
   "nbconvert_exporter": "python",
   "pygments_lexer": "ipython3",
   "version": "3.10.9"
  }
 },
 "nbformat": 4,
 "nbformat_minor": 5
}
